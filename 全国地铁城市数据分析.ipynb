{
 "cells": [
  {
   "cell_type": "markdown",
   "metadata": {
    "id": "117C231CBAE94DAB8139570FD264E6CC",
    "jupyter": {},
    "mdEditEnable": false,
    "notebookId": "60785ed3a07c870017811445",
    "slideshow": {
     "slide_type": "slide"
    },
    "tags": []
   },
   "source": [
    "本文通过对爬取到的 40 个已开通地铁的城市，共计5000+地铁站点进行数据分析，通过简单数据清洗、可视化作图、excel 三维地图等多个方式进行展示性分析\n",
    "\n",
    "\n",
    "另外，在进行地铁数据分析的时候，需要特别注意爬取的数据集中数据的准确度"
   ]
  },
  {
   "cell_type": "code",
   "execution_count": 2,
   "metadata": {
    "ExecuteTime": {
     "end_time": "2021-04-15T05:49:06.941322Z",
     "start_time": "2021-04-15T05:49:06.913366Z"
    },
    "id": "9C96295C23D84CC587243003CF8B0BDD",
    "jupyter": {},
    "scrolled": false,
    "slideshow": {
     "slide_type": "slide"
    },
    "tags": []
   },
   "outputs": [],
   "source": [
    "import pandas as pd\n",
    "import numpy as np\n",
    "import warnings\n",
    "import os\n",
    "warnings.filterwarnings('ignore')"
   ]
  },
  {
   "cell_type": "code",
   "execution_count": 3,
   "metadata": {
    "ExecuteTime": {
     "end_time": "2021-04-15T05:49:07.215589Z",
     "start_time": "2021-04-15T05:49:07.189631Z"
    },
    "id": "B28A7E12B13040578A6E3C36F0D95DE5",
    "jupyter": {},
    "scrolled": false,
    "slideshow": {
     "slide_type": "slide"
    },
    "tags": []
   },
   "outputs": [
    {
     "data": {
      "text/html": [
       "<style type=\"text/css\">\n",
       "table.dataframe td, table.dataframe th {\n",
       "    border: 0.5px  black solid !important;\n",
       "  color: black !important;\n",
       "}\n"
      ],
      "text/plain": [
       "<IPython.core.display.HTML object>"
      ]
     },
     "metadata": {},
     "output_type": "display_data"
    }
   ],
   "source": [
    "%%HTML\n",
    "<style type=\"text/css\">\n",
    "table.dataframe td, table.dataframe th {\n",
    "    border: 0.5px  black solid !important;\n",
    "  color: black !important;\n",
    "}\n"
   ]
  },
  {
   "cell_type": "code",
   "execution_count": 4,
   "metadata": {
    "ExecuteTime": {
     "end_time": "2021-04-15T13:08:47.904364Z",
     "start_time": "2021-04-15T13:08:47.895388Z"
    },
    "id": "E15F73ED59BF4029B00322A2A82FCA39",
    "jupyter": {},
    "scrolled": false,
    "slideshow": {
     "slide_type": "slide"
    },
    "tags": []
   },
   "outputs": [],
   "source": [
    "import seaborn as sns\n",
    "import matplotlib.pyplot as plt\n",
    "\"\"\"\n",
    "sns 相关设置\n",
    "@return:\n",
    "\"\"\"\n",
    "# 声明使用 Seaborn 样式\n",
    "sns.set()\n",
    "# 有五种seaborn的绘图风格，它们分别是：darkgrid, whitegrid, dark, white, ticks。默认的主题是darkgrid。\n",
    "sns.set_style(\"whitegrid\")\n",
    "# 有四个预置的环境，按大小从小到大排列分别为：paper, notebook, talk, poster。其中，notebook是默认的。\n",
    "sns.set_context('talk')\n",
    "# 中文字体设置-黑体\n",
    "plt.rcParams['font.sans-serif'] = ['Microsoft YaHei']\n",
    "# 解决保存图像是负号'-'显示为方块的问题\n",
    "plt.rcParams['axes.unicode_minus'] = False\n"
   ]
  },
  {
   "cell_type": "code",
   "execution_count": 5,
   "metadata": {
    "ExecuteTime": {
     "end_time": "2021-04-15T13:08:48.496462Z",
     "start_time": "2021-04-15T13:08:48.439913Z"
    },
    "id": "B5E26BFC824F423097991DDACD8C9A43",
    "jupyter": {},
    "scrolled": false,
    "slideshow": {
     "slide_type": "slide"
    },
    "tags": []
   },
   "outputs": [
    {
     "data": {
      "text/html": [
       "<div>\n",
       "<style scoped>\n",
       "    .dataframe tbody tr th:only-of-type {\n",
       "        vertical-align: middle;\n",
       "    }\n",
       "\n",
       "    .dataframe tbody tr th {\n",
       "        vertical-align: top;\n",
       "    }\n",
       "\n",
       "    .dataframe thead th {\n",
       "        text-align: right;\n",
       "    }\n",
       "</style>\n",
       "<table border=\"1\" class=\"dataframe\">\n",
       "  <thead>\n",
       "    <tr style=\"text-align: right;\">\n",
       "      <th></th>\n",
       "      <th>站点名称</th>\n",
       "      <th>POI编号</th>\n",
       "      <th>拼音名称</th>\n",
       "      <th>gd经度</th>\n",
       "      <th>gd纬度</th>\n",
       "      <th>路线名称</th>\n",
       "      <th>城市名称</th>\n",
       "      <th>行政区名称</th>\n",
       "      <th>bd经度</th>\n",
       "      <th>bd纬度</th>\n",
       "    </tr>\n",
       "  </thead>\n",
       "  <tbody>\n",
       "    <tr>\n",
       "      <th>2279</th>\n",
       "      <td>花溪</td>\n",
       "      <td>BV10046023</td>\n",
       "      <td>HuaXi</td>\n",
       "      <td>106.550211</td>\n",
       "      <td>29.432287</td>\n",
       "      <td>3号线</td>\n",
       "      <td>重庆</td>\n",
       "      <td>巴南区</td>\n",
       "      <td>106.556689</td>\n",
       "      <td>29.438522</td>\n",
       "    </tr>\n",
       "    <tr>\n",
       "      <th>2772</th>\n",
       "      <td>富国街</td>\n",
       "      <td>BV10102321</td>\n",
       "      <td>fu guo jie</td>\n",
       "      <td>121.584703</td>\n",
       "      <td>38.898792</td>\n",
       "      <td>1号线</td>\n",
       "      <td>大连</td>\n",
       "      <td>沙河口区</td>\n",
       "      <td>121.591434</td>\n",
       "      <td>38.904431</td>\n",
       "    </tr>\n",
       "    <tr>\n",
       "      <th>2065</th>\n",
       "      <td>六合开发区</td>\n",
       "      <td>BV10052793</td>\n",
       "      <td>liu he kai fa qu</td>\n",
       "      <td>118.805334</td>\n",
       "      <td>32.305196</td>\n",
       "      <td>S8号线(宁天线)</td>\n",
       "      <td>南京</td>\n",
       "      <td>六合区</td>\n",
       "      <td>118.811502</td>\n",
       "      <td>32.311537</td>\n",
       "    </tr>\n",
       "    <tr>\n",
       "      <th>4803</th>\n",
       "      <td>瓯华</td>\n",
       "      <td>BV11102063</td>\n",
       "      <td>OuHua</td>\n",
       "      <td>120.934880</td>\n",
       "      <td>27.930516</td>\n",
       "      <td>S1线</td>\n",
       "      <td>温州</td>\n",
       "      <td>洞头区</td>\n",
       "      <td>120.941554</td>\n",
       "      <td>27.936360</td>\n",
       "    </tr>\n",
       "    <tr>\n",
       "      <th>1401</th>\n",
       "      <td>凤凰城</td>\n",
       "      <td>BV10527878</td>\n",
       "      <td>FengHuangCheng</td>\n",
       "      <td>113.932831</td>\n",
       "      <td>22.747433</td>\n",
       "      <td>6号线</td>\n",
       "      <td>深圳</td>\n",
       "      <td>光明区</td>\n",
       "      <td>113.939407</td>\n",
       "      <td>22.753067</td>\n",
       "    </tr>\n",
       "  </tbody>\n",
       "</table>\n",
       "</div>"
      ],
      "text/plain": [
       "       站点名称       POI编号              拼音名称        gd经度       gd纬度       路线名称  \\\n",
       "2279     花溪  BV10046023             HuaXi  106.550211  29.432287        3号线   \n",
       "2772    富国街  BV10102321        fu guo jie  121.584703  38.898792        1号线   \n",
       "2065  六合开发区  BV10052793  liu he kai fa qu  118.805334  32.305196  S8号线(宁天线)   \n",
       "4803     瓯华  BV11102063             OuHua  120.934880  27.930516        S1线   \n",
       "1401    凤凰城  BV10527878    FengHuangCheng  113.932831  22.747433        6号线   \n",
       "\n",
       "     城市名称 行政区名称        bd经度       bd纬度  \n",
       "2279   重庆   巴南区  106.556689  29.438522  \n",
       "2772   大连  沙河口区  121.591434  38.904431  \n",
       "2065   南京   六合区  118.811502  32.311537  \n",
       "4803   温州   洞头区  120.941554  27.936360  \n",
       "1401   深圳   光明区  113.939407  22.753067  "
      ]
     },
     "execution_count": 5,
     "metadata": {},
     "output_type": "execute_result"
    }
   ],
   "source": [
    "df_data = pd.read_csv('../data/全国城市地铁站点信息V202104（带经纬度）.csv', encoding='gbk')\n",
    "df_data.sample(5)\n"
   ]
  },
  {
   "cell_type": "markdown",
   "metadata": {
    "id": "37A6A38896E04CF9880D7E0D5524C3E1",
    "jupyter": {},
    "mdEditEnable": false,
    "slideshow": {
     "slide_type": "slide"
    },
    "tags": []
   },
   "source": [
    "#### 数据清洗\n",
    "\n",
    "删除完全重复的站点\n",
    "\n",
    "类似于地铁环线、地铁一期与二期等都会出现重复站点，对应的重复站点数据是完全一致的，可以直接删除"
   ]
  },
  {
   "cell_type": "code",
   "execution_count": 6,
   "metadata": {
    "ExecuteTime": {
     "end_time": "2021-04-15T13:08:50.518547Z",
     "start_time": "2021-04-15T13:08:50.484638Z"
    },
    "id": "69A735B73A3940E0BA461756465C3BAA",
    "jupyter": {},
    "scrolled": false,
    "slideshow": {
     "slide_type": "slide"
    },
    "tags": []
   },
   "outputs": [
    {
     "data": {
      "text/html": [
       "<div>\n",
       "<style scoped>\n",
       "    .dataframe tbody tr th:only-of-type {\n",
       "        vertical-align: middle;\n",
       "    }\n",
       "\n",
       "    .dataframe tbody tr th {\n",
       "        vertical-align: top;\n",
       "    }\n",
       "\n",
       "    .dataframe thead th {\n",
       "        text-align: right;\n",
       "    }\n",
       "</style>\n",
       "<table border=\"1\" class=\"dataframe\">\n",
       "  <thead>\n",
       "    <tr style=\"text-align: right;\">\n",
       "      <th></th>\n",
       "      <th>站点名称</th>\n",
       "      <th>POI编号</th>\n",
       "      <th>拼音名称</th>\n",
       "      <th>gd经度</th>\n",
       "      <th>gd纬度</th>\n",
       "      <th>路线名称</th>\n",
       "      <th>城市名称</th>\n",
       "      <th>行政区名称</th>\n",
       "      <th>bd经度</th>\n",
       "      <th>bd纬度</th>\n",
       "    </tr>\n",
       "  </thead>\n",
       "  <tbody>\n",
       "    <tr>\n",
       "      <th>1210</th>\n",
       "      <td>石溪</td>\n",
       "      <td>BV10544498</td>\n",
       "      <td>shi xi</td>\n",
       "      <td>113.285951</td>\n",
       "      <td>23.067937</td>\n",
       "      <td>广佛线</td>\n",
       "      <td>广州</td>\n",
       "      <td>海珠区</td>\n",
       "      <td>113.292530</td>\n",
       "      <td>23.074206</td>\n",
       "    </tr>\n",
       "    <tr>\n",
       "      <th>213</th>\n",
       "      <td>海淀黄庄</td>\n",
       "      <td>BV10013411</td>\n",
       "      <td>hai dian huang zhuang</td>\n",
       "      <td>116.317564</td>\n",
       "      <td>39.975996</td>\n",
       "      <td>10号线</td>\n",
       "      <td>北京</td>\n",
       "      <td>海淀区</td>\n",
       "      <td>116.324346</td>\n",
       "      <td>39.981865</td>\n",
       "    </tr>\n",
       "    <tr>\n",
       "      <th>109</th>\n",
       "      <td>北运河东</td>\n",
       "      <td>BV10416651</td>\n",
       "      <td>bei yun he dong</td>\n",
       "      <td>116.707056</td>\n",
       "      <td>39.903268</td>\n",
       "      <td>6号线</td>\n",
       "      <td>北京</td>\n",
       "      <td>通州区</td>\n",
       "      <td>116.713760</td>\n",
       "      <td>39.909262</td>\n",
       "    </tr>\n",
       "    <tr>\n",
       "      <th>2473</th>\n",
       "      <td>向阳路</td>\n",
       "      <td>BV11472646</td>\n",
       "      <td>XiangYang Lu</td>\n",
       "      <td>120.442553</td>\n",
       "      <td>30.260328</td>\n",
       "      <td>1号线</td>\n",
       "      <td>杭州</td>\n",
       "      <td>萧山区</td>\n",
       "      <td>120.449181</td>\n",
       "      <td>30.266093</td>\n",
       "    </tr>\n",
       "    <tr>\n",
       "      <th>3514</th>\n",
       "      <td>西部汽车站</td>\n",
       "      <td>BV10544508</td>\n",
       "      <td>XiBu QiCheZhan</td>\n",
       "      <td>102.638836</td>\n",
       "      <td>25.035271</td>\n",
       "      <td>3号线</td>\n",
       "      <td>昆明</td>\n",
       "      <td>盘龙区</td>\n",
       "      <td>102.794882</td>\n",
       "      <td>25.042683</td>\n",
       "    </tr>\n",
       "  </tbody>\n",
       "</table>\n",
       "</div>"
      ],
      "text/plain": [
       "       站点名称       POI编号                   拼音名称        gd经度       gd纬度  路线名称  \\\n",
       "1210     石溪  BV10544498                 shi xi  113.285951  23.067937   广佛线   \n",
       "213    海淀黄庄  BV10013411  hai dian huang zhuang  116.317564  39.975996  10号线   \n",
       "109    北运河东  BV10416651        bei yun he dong  116.707056  39.903268   6号线   \n",
       "2473    向阳路  BV11472646           XiangYang Lu  120.442553  30.260328   1号线   \n",
       "3514  西部汽车站  BV10544508         XiBu QiCheZhan  102.638836  25.035271   3号线   \n",
       "\n",
       "     城市名称 行政区名称        bd经度       bd纬度  \n",
       "1210   广州   海珠区  113.292530  23.074206  \n",
       "213    北京   海淀区  116.324346  39.981865  \n",
       "109    北京   通州区  116.713760  39.909262  \n",
       "2473   杭州   萧山区  120.449181  30.266093  \n",
       "3514   昆明   盘龙区  102.794882  25.042683  "
      ]
     },
     "execution_count": 6,
     "metadata": {},
     "output_type": "execute_result"
    }
   ],
   "source": [
    "\"\"\"删除完全重复的站点\"\"\"\n",
    "df_data_1 = df_data.drop_duplicates()\n",
    "df_data_1.sample(5)"
   ]
  },
  {
   "cell_type": "markdown",
   "metadata": {
    "id": "C5CCE28E22964F7C91AAF9772967BCD4",
    "jupyter": {},
    "mdEditEnable": false,
    "slideshow": {
     "slide_type": "slide"
    },
    "tags": []
   },
   "source": [
    "部分地铁站点因为地理位置对不上而出现空值，可以看一下具体情况：\n"
   ]
  },
  {
   "cell_type": "code",
   "execution_count": 7,
   "metadata": {
    "ExecuteTime": {
     "end_time": "2021-04-15T13:08:51.563816Z",
     "start_time": "2021-04-15T13:08:51.531900Z"
    },
    "id": "142D9ACC41E746A08A8135D3DCF973C9",
    "jupyter": {},
    "scrolled": false,
    "slideshow": {
     "slide_type": "slide"
    },
    "tags": []
   },
   "outputs": [
    {
     "name": "stdout",
     "output_type": "stream",
     "text": [
      "(51, 10)\n"
     ]
    },
    {
     "data": {
      "text/html": [
       "<div>\n",
       "<style scoped>\n",
       "    .dataframe tbody tr th:only-of-type {\n",
       "        vertical-align: middle;\n",
       "    }\n",
       "\n",
       "    .dataframe tbody tr th {\n",
       "        vertical-align: top;\n",
       "    }\n",
       "\n",
       "    .dataframe thead th {\n",
       "        text-align: right;\n",
       "    }\n",
       "</style>\n",
       "<table border=\"1\" class=\"dataframe\">\n",
       "  <thead>\n",
       "    <tr style=\"text-align: right;\">\n",
       "      <th></th>\n",
       "      <th>站点名称</th>\n",
       "      <th>POI编号</th>\n",
       "      <th>拼音名称</th>\n",
       "      <th>gd经度</th>\n",
       "      <th>gd纬度</th>\n",
       "      <th>路线名称</th>\n",
       "      <th>城市名称</th>\n",
       "      <th>行政区名称</th>\n",
       "      <th>bd经度</th>\n",
       "      <th>bd纬度</th>\n",
       "    </tr>\n",
       "  </thead>\n",
       "  <tbody>\n",
       "    <tr>\n",
       "      <th>2127</th>\n",
       "      <td>坚尼地城</td>\n",
       "      <td>BV10420638</td>\n",
       "      <td>JianNi DiCheng</td>\n",
       "      <td>114.133869</td>\n",
       "      <td>22.278567</td>\n",
       "      <td>港岛线</td>\n",
       "      <td>香港</td>\n",
       "      <td>NaN</td>\n",
       "      <td>114.182081</td>\n",
       "      <td>22.277594</td>\n",
       "    </tr>\n",
       "    <tr>\n",
       "      <th>2129</th>\n",
       "      <td>西营盘</td>\n",
       "      <td>BV10420639</td>\n",
       "      <td>XiYingPan</td>\n",
       "      <td>114.147572</td>\n",
       "      <td>22.282666</td>\n",
       "      <td>港岛线</td>\n",
       "      <td>香港</td>\n",
       "      <td>NaN</td>\n",
       "      <td>NaN</td>\n",
       "      <td>NaN</td>\n",
       "    </tr>\n",
       "    <tr>\n",
       "      <th>2126</th>\n",
       "      <td>香港</td>\n",
       "      <td>BV10313841</td>\n",
       "      <td>XiangGang</td>\n",
       "      <td>114.162952</td>\n",
       "      <td>22.282068</td>\n",
       "      <td>东涌线</td>\n",
       "      <td>香港</td>\n",
       "      <td>NaN</td>\n",
       "      <td>NaN</td>\n",
       "      <td>NaN</td>\n",
       "    </tr>\n",
       "    <tr>\n",
       "      <th>2221</th>\n",
       "      <td>尖沙咀</td>\n",
       "      <td>BV10313829</td>\n",
       "      <td>JianShaZui</td>\n",
       "      <td>114.177190</td>\n",
       "      <td>22.294678</td>\n",
       "      <td>荃湾线</td>\n",
       "      <td>香港</td>\n",
       "      <td>NaN</td>\n",
       "      <td>114.192193</td>\n",
       "      <td>22.273526</td>\n",
       "    </tr>\n",
       "    <tr>\n",
       "      <th>2145</th>\n",
       "      <td>何文田</td>\n",
       "      <td>BV10789130</td>\n",
       "      <td>HeWenTian</td>\n",
       "      <td>114.187751</td>\n",
       "      <td>22.306628</td>\n",
       "      <td>观塘线</td>\n",
       "      <td>香港</td>\n",
       "      <td>NaN</td>\n",
       "      <td>114.187375</td>\n",
       "      <td>22.315758</td>\n",
       "    </tr>\n",
       "  </tbody>\n",
       "</table>\n",
       "</div>"
      ],
      "text/plain": [
       "      站点名称       POI编号            拼音名称        gd经度       gd纬度 路线名称 城市名称 行政区名称  \\\n",
       "2127  坚尼地城  BV10420638  JianNi DiCheng  114.133869  22.278567  港岛线   香港   NaN   \n",
       "2129   西营盘  BV10420639       XiYingPan  114.147572  22.282666  港岛线   香港   NaN   \n",
       "2126    香港  BV10313841       XiangGang  114.162952  22.282068  东涌线   香港   NaN   \n",
       "2221   尖沙咀  BV10313829      JianShaZui  114.177190  22.294678  荃湾线   香港   NaN   \n",
       "2145   何文田  BV10789130       HeWenTian  114.187751  22.306628  观塘线   香港   NaN   \n",
       "\n",
       "            bd经度       bd纬度  \n",
       "2127  114.182081  22.277594  \n",
       "2129         NaN        NaN  \n",
       "2126         NaN        NaN  \n",
       "2221  114.192193  22.273526  \n",
       "2145  114.187375  22.315758  "
      ]
     },
     "execution_count": 7,
     "metadata": {},
     "output_type": "execute_result"
    }
   ],
   "source": [
    "print(df_data_1[df_data_1['行政区名称'].isnull()].shape)\n",
    "df_data_1[df_data_1['行政区名称'].isnull()].sample(5)\n"
   ]
  },
  {
   "cell_type": "markdown",
   "metadata": {
    "id": "2C18F29D93244C4590B77F81BD4340FB",
    "jupyter": {},
    "mdEditEnable": false,
    "slideshow": {
     "slide_type": "slide"
    },
    "tags": []
   },
   "source": [
    "一共 51 个数据为空，香港数据为空的较多，其他城市只有较少数，可以单独处理，或者手动补充一下数据"
   ]
  },
  {
   "cell_type": "code",
   "execution_count": 8,
   "metadata": {
    "ExecuteTime": {
     "end_time": "2021-04-15T13:08:51.939827Z",
     "start_time": "2021-04-15T13:08:51.910905Z"
    },
    "id": "C01093E1216E4023A4DFF12F13056904",
    "jupyter": {},
    "scrolled": false,
    "slideshow": {
     "slide_type": "slide"
    },
    "tags": []
   },
   "outputs": [
    {
     "data": {
      "text/html": [
       "<div>\n",
       "<style scoped>\n",
       "    .dataframe tbody tr th:only-of-type {\n",
       "        vertical-align: middle;\n",
       "    }\n",
       "\n",
       "    .dataframe tbody tr th {\n",
       "        vertical-align: top;\n",
       "    }\n",
       "\n",
       "    .dataframe thead th {\n",
       "        text-align: right;\n",
       "    }\n",
       "</style>\n",
       "<table border=\"1\" class=\"dataframe\">\n",
       "  <thead>\n",
       "    <tr style=\"text-align: right;\">\n",
       "      <th></th>\n",
       "      <th>站点名称</th>\n",
       "      <th>POI编号</th>\n",
       "      <th>拼音名称</th>\n",
       "      <th>gd经度</th>\n",
       "      <th>gd纬度</th>\n",
       "      <th>路线名称</th>\n",
       "      <th>城市名称</th>\n",
       "      <th>行政区名称</th>\n",
       "      <th>bd经度</th>\n",
       "      <th>bd纬度</th>\n",
       "    </tr>\n",
       "  </thead>\n",
       "  <tbody>\n",
       "    <tr>\n",
       "      <th>4162</th>\n",
       "      <td>硕放机场</td>\n",
       "      <td>BV10128134</td>\n",
       "      <td>ShuoFang JiChang</td>\n",
       "      <td>120.430807</td>\n",
       "      <td>31.502584</td>\n",
       "      <td>3号线</td>\n",
       "      <td>无锡</td>\n",
       "      <td>新吴区</td>\n",
       "      <td>120.440156</td>\n",
       "      <td>31.508856</td>\n",
       "    </tr>\n",
       "    <tr>\n",
       "      <th>3069</th>\n",
       "      <td>人民北路</td>\n",
       "      <td>BV10061673</td>\n",
       "      <td>RenMin BeiLu</td>\n",
       "      <td>104.073056</td>\n",
       "      <td>30.684833</td>\n",
       "      <td>6号线</td>\n",
       "      <td>成都</td>\n",
       "      <td>金牛区</td>\n",
       "      <td>104.079208</td>\n",
       "      <td>30.691592</td>\n",
       "    </tr>\n",
       "    <tr>\n",
       "      <th>1160</th>\n",
       "      <td>钟落潭</td>\n",
       "      <td>BV10851527</td>\n",
       "      <td>zhong luo tan</td>\n",
       "      <td>113.400686</td>\n",
       "      <td>23.375649</td>\n",
       "      <td>14号线</td>\n",
       "      <td>广州</td>\n",
       "      <td>白云区</td>\n",
       "      <td>113.407386</td>\n",
       "      <td>23.382315</td>\n",
       "    </tr>\n",
       "    <tr>\n",
       "      <th>4460</th>\n",
       "      <td>安吉客运站</td>\n",
       "      <td>BV10730199</td>\n",
       "      <td>AnJi KeYunZhan</td>\n",
       "      <td>108.297843</td>\n",
       "      <td>22.879757</td>\n",
       "      <td>3号线</td>\n",
       "      <td>南宁</td>\n",
       "      <td>西乡塘区</td>\n",
       "      <td>108.305817</td>\n",
       "      <td>22.884455</td>\n",
       "    </tr>\n",
       "    <tr>\n",
       "      <th>1549</th>\n",
       "      <td>佛祖岭</td>\n",
       "      <td>BV10890079</td>\n",
       "      <td>fo zu ling</td>\n",
       "      <td>114.439777</td>\n",
       "      <td>30.438671</td>\n",
       "      <td>2号线</td>\n",
       "      <td>武汉</td>\n",
       "      <td>江夏区</td>\n",
       "      <td>114.446341</td>\n",
       "      <td>30.444579</td>\n",
       "    </tr>\n",
       "  </tbody>\n",
       "</table>\n",
       "</div>"
      ],
      "text/plain": [
       "       站点名称       POI编号              拼音名称        gd经度       gd纬度  路线名称 城市名称  \\\n",
       "4162   硕放机场  BV10128134  ShuoFang JiChang  120.430807  31.502584   3号线   无锡   \n",
       "3069   人民北路  BV10061673      RenMin BeiLu  104.073056  30.684833   6号线   成都   \n",
       "1160    钟落潭  BV10851527     zhong luo tan  113.400686  23.375649  14号线   广州   \n",
       "4460  安吉客运站  BV10730199    AnJi KeYunZhan  108.297843  22.879757   3号线   南宁   \n",
       "1549    佛祖岭  BV10890079        fo zu ling  114.439777  30.438671   2号线   武汉   \n",
       "\n",
       "     行政区名称        bd经度       bd纬度  \n",
       "4162   新吴区  120.440156  31.508856  \n",
       "3069   金牛区  104.079208  30.691592  \n",
       "1160   白云区  113.407386  23.382315  \n",
       "4460  西乡塘区  108.305817  22.884455  \n",
       "1549   江夏区  114.446341  30.444579  "
      ]
     },
     "execution_count": 8,
     "metadata": {},
     "output_type": "execute_result"
    }
   ],
   "source": [
    "df_data_notnull = df_data_1[df_data_1['行政区名称'].notnull()]\n",
    "df_data_notnull.sample(5)"
   ]
  },
  {
   "cell_type": "markdown",
   "metadata": {
    "id": "4374FFC92E084E7787582E2546D166B9",
    "jupyter": {},
    "slideshow": {
     "slide_type": "slide"
    },
    "tags": []
   },
   "source": [
    "一共 4808 条数据，表示有 4808 个地铁站点，每个站点都有 10 个详细的字段。\n"
   ]
  },
  {
   "cell_type": "code",
   "execution_count": 9,
   "metadata": {
    "ExecuteTime": {
     "end_time": "2021-04-15T13:08:52.294974Z",
     "start_time": "2021-04-15T13:08:52.238716Z"
    },
    "id": "5698994C383F4DC885F5995A984DE767",
    "jupyter": {},
    "scrolled": false,
    "slideshow": {
     "slide_type": "slide"
    },
    "tags": []
   },
   "outputs": [
    {
     "data": {
      "text/html": [
       "<div>\n",
       "<style scoped>\n",
       "    .dataframe tbody tr th:only-of-type {\n",
       "        vertical-align: middle;\n",
       "    }\n",
       "\n",
       "    .dataframe tbody tr th {\n",
       "        vertical-align: top;\n",
       "    }\n",
       "\n",
       "    .dataframe thead th {\n",
       "        text-align: right;\n",
       "    }\n",
       "</style>\n",
       "<table border=\"1\" class=\"dataframe\">\n",
       "  <thead>\n",
       "    <tr style=\"text-align: right;\">\n",
       "      <th></th>\n",
       "      <th>站点名称</th>\n",
       "      <th>POI编号</th>\n",
       "      <th>拼音名称</th>\n",
       "      <th>gd经度</th>\n",
       "      <th>gd纬度</th>\n",
       "      <th>路线名称</th>\n",
       "      <th>城市名称</th>\n",
       "      <th>行政区名称</th>\n",
       "      <th>bd经度</th>\n",
       "      <th>bd纬度</th>\n",
       "      <th>换乘站点</th>\n",
       "    </tr>\n",
       "  </thead>\n",
       "  <tbody>\n",
       "    <tr>\n",
       "      <th>4021</th>\n",
       "      <td>双山</td>\n",
       "      <td>BV10425292</td>\n",
       "      <td>ShuangShan</td>\n",
       "      <td>120.397406</td>\n",
       "      <td>36.114280</td>\n",
       "      <td>3号线</td>\n",
       "      <td>青岛</td>\n",
       "      <td>市北区</td>\n",
       "      <td>120.403728</td>\n",
       "      <td>36.120132</td>\n",
       "      <td>1</td>\n",
       "    </tr>\n",
       "    <tr>\n",
       "      <th>1825</th>\n",
       "      <td>洞庭路</td>\n",
       "      <td>BV10990199</td>\n",
       "      <td>dong ting lu</td>\n",
       "      <td>117.245877</td>\n",
       "      <td>39.043590</td>\n",
       "      <td>6号线</td>\n",
       "      <td>天津</td>\n",
       "      <td>河西区</td>\n",
       "      <td>117.251290</td>\n",
       "      <td>39.050160</td>\n",
       "      <td>1</td>\n",
       "    </tr>\n",
       "    <tr>\n",
       "      <th>1619</th>\n",
       "      <td>建安街</td>\n",
       "      <td>BV10575213</td>\n",
       "      <td>jian an jie</td>\n",
       "      <td>114.313759</td>\n",
       "      <td>30.504025</td>\n",
       "      <td>7号线</td>\n",
       "      <td>武汉</td>\n",
       "      <td>武昌区</td>\n",
       "      <td>114.320362</td>\n",
       "      <td>30.509791</td>\n",
       "      <td>1</td>\n",
       "    </tr>\n",
       "    <tr>\n",
       "      <th>2496</th>\n",
       "      <td>青山湖</td>\n",
       "      <td>BV11280860</td>\n",
       "      <td>QingShanHu</td>\n",
       "      <td>119.755663</td>\n",
       "      <td>30.255795</td>\n",
       "      <td>16号线</td>\n",
       "      <td>杭州</td>\n",
       "      <td>临安区</td>\n",
       "      <td>119.762787</td>\n",
       "      <td>30.261856</td>\n",
       "      <td>1</td>\n",
       "    </tr>\n",
       "    <tr>\n",
       "      <th>3349</th>\n",
       "      <td>苏家塘</td>\n",
       "      <td>BV11300054</td>\n",
       "      <td>SuJiaTang</td>\n",
       "      <td>102.692655</td>\n",
       "      <td>25.063907</td>\n",
       "      <td>4号线</td>\n",
       "      <td>昆明</td>\n",
       "      <td>五华区</td>\n",
       "      <td>102.700200</td>\n",
       "      <td>25.069696</td>\n",
       "      <td>1</td>\n",
       "    </tr>\n",
       "  </tbody>\n",
       "</table>\n",
       "</div>"
      ],
      "text/plain": [
       "     站点名称       POI编号          拼音名称        gd经度       gd纬度  路线名称 城市名称 行政区名称  \\\n",
       "4021   双山  BV10425292    ShuangShan  120.397406  36.114280   3号线   青岛   市北区   \n",
       "1825  洞庭路  BV10990199  dong ting lu  117.245877  39.043590   6号线   天津   河西区   \n",
       "1619  建安街  BV10575213   jian an jie  114.313759  30.504025   7号线   武汉   武昌区   \n",
       "2496  青山湖  BV11280860    QingShanHu  119.755663  30.255795  16号线   杭州   临安区   \n",
       "3349  苏家塘  BV11300054     SuJiaTang  102.692655  25.063907   4号线   昆明   五华区   \n",
       "\n",
       "            bd经度       bd纬度  换乘站点  \n",
       "4021  120.403728  36.120132     1  \n",
       "1825  117.251290  39.050160     1  \n",
       "1619  114.320362  30.509791     1  \n",
       "2496  119.762787  30.261856     1  \n",
       "3349  102.700200  25.069696     1  "
      ]
     },
     "execution_count": 9,
     "metadata": {},
     "output_type": "execute_result"
    }
   ],
   "source": [
    "df_data_2 = df_data_notnull.copy()\n",
    "# 计算站点的换乘个数\n",
    "df_address_cnt = df_data_2.groupby(['城市名称', '站点名称']).agg({'拼音名称':'count'}).reset_index().rename(columns={'拼音名称': '换乘站点'})\n",
    "df_data_3 = df_data_2.merge(df_address_cnt, on=['城市名称', '站点名称'], how='left')\n",
    "df_data_3.sample(5)\n"
   ]
  },
  {
   "cell_type": "markdown",
   "metadata": {
    "id": "6BEB6E5DBA5D4DF8818EE0F3C893E228",
    "jupyter": {},
    "mdEditEnable": false,
    "slideshow": {
     "slide_type": "slide"
    },
    "tags": []
   },
   "source": [
    "换乘站点列表示一个地铁站有多少个换乘站。\n",
    "\n",
    "例如：金安桥站是S1线和6号线的换乘点，所以对应的换乘站点为2"
   ]
  },
  {
   "cell_type": "code",
   "execution_count": 10,
   "metadata": {
    "ExecuteTime": {
     "end_time": "2021-04-15T13:08:52.561573Z",
     "start_time": "2021-04-15T13:08:52.541627Z"
    },
    "id": "D61327ABE56341B583EB11E8EB5EE920",
    "jupyter": {},
    "scrolled": false,
    "slideshow": {
     "slide_type": "slide"
    },
    "tags": []
   },
   "outputs": [
    {
     "data": {
      "text/html": [
       "<div>\n",
       "<style scoped>\n",
       "    .dataframe tbody tr th:only-of-type {\n",
       "        vertical-align: middle;\n",
       "    }\n",
       "\n",
       "    .dataframe tbody tr th {\n",
       "        vertical-align: top;\n",
       "    }\n",
       "\n",
       "    .dataframe thead th {\n",
       "        text-align: right;\n",
       "    }\n",
       "</style>\n",
       "<table border=\"1\" class=\"dataframe\">\n",
       "  <thead>\n",
       "    <tr style=\"text-align: right;\">\n",
       "      <th></th>\n",
       "      <th>站点名称</th>\n",
       "      <th>POI编号</th>\n",
       "      <th>拼音名称</th>\n",
       "      <th>gd经度</th>\n",
       "      <th>gd纬度</th>\n",
       "      <th>路线名称</th>\n",
       "      <th>城市名称</th>\n",
       "      <th>行政区名称</th>\n",
       "      <th>bd经度</th>\n",
       "      <th>bd纬度</th>\n",
       "      <th>换乘站点</th>\n",
       "    </tr>\n",
       "  </thead>\n",
       "  <tbody>\n",
       "    <tr>\n",
       "      <th>0</th>\n",
       "      <td>金安桥</td>\n",
       "      <td>BV10813545</td>\n",
       "      <td>jin an qiao</td>\n",
       "      <td>116.163167</td>\n",
       "      <td>39.92362</td>\n",
       "      <td>S1线</td>\n",
       "      <td>北京</td>\n",
       "      <td>石景山区</td>\n",
       "      <td>116.169034</td>\n",
       "      <td>39.929669</td>\n",
       "      <td>2</td>\n",
       "    </tr>\n",
       "    <tr>\n",
       "      <th>137</th>\n",
       "      <td>金安桥</td>\n",
       "      <td>BV10813545</td>\n",
       "      <td>jin an qiao</td>\n",
       "      <td>116.163167</td>\n",
       "      <td>39.92362</td>\n",
       "      <td>6号线</td>\n",
       "      <td>北京</td>\n",
       "      <td>石景山区</td>\n",
       "      <td>116.169034</td>\n",
       "      <td>39.929669</td>\n",
       "      <td>2</td>\n",
       "    </tr>\n",
       "  </tbody>\n",
       "</table>\n",
       "</div>"
      ],
      "text/plain": [
       "    站点名称       POI编号         拼音名称        gd经度      gd纬度 路线名称 城市名称 行政区名称  \\\n",
       "0    金安桥  BV10813545  jin an qiao  116.163167  39.92362  S1线   北京  石景山区   \n",
       "137  金安桥  BV10813545  jin an qiao  116.163167  39.92362  6号线   北京  石景山区   \n",
       "\n",
       "           bd经度       bd纬度  换乘站点  \n",
       "0    116.169034  39.929669     2  \n",
       "137  116.169034  39.929669     2  "
      ]
     },
     "execution_count": 10,
     "metadata": {},
     "output_type": "execute_result"
    }
   ],
   "source": [
    "df_data_3[df_data_3['站点名称']=='金安桥']\n"
   ]
  },
  {
   "cell_type": "markdown",
   "metadata": {
    "id": "DC4E3D83E8C94B0288EBA7439181039B",
    "jupyter": {},
    "mdEditEnable": false,
    "slideshow": {
     "slide_type": "slide"
    },
    "tags": []
   },
   "source": [
    "\n",
    "数据前期清洗大概就这些\n",
    "\n",
    "另外，此次的数据仍存在部分异常，感兴趣的可以做一个深度清洗，再进行下一步的分析"
   ]
  },
  {
   "cell_type": "markdown",
   "metadata": {
    "id": "2D8CD2A65CF84696827285C8A4DE177B",
    "jupyter": {},
    "mdEditEnable": false,
    "slideshow": {
     "slide_type": "slide"
    },
    "tags": []
   },
   "source": [
    "#### 整体城市分析\n",
    "\n",
    "先来看一下40城的地铁站点数量"
   ]
  },
  {
   "cell_type": "code",
   "execution_count": 10,
   "metadata": {
    "ExecuteTime": {
     "end_time": "2021-04-15T13:08:54.226030Z",
     "start_time": "2021-04-15T13:08:52.962164Z"
    },
    "id": "757832CAB16742D489ABB30FC5788054",
    "jupyter": {},
    "scrolled": false,
    "slideshow": {
     "slide_type": "slide"
    },
    "tags": []
   },
   "outputs": [
    {
     "data": {
      "text/html": [
       "<div>\n",
       "<style scoped>\n",
       "    .dataframe tbody tr th:only-of-type {\n",
       "        vertical-align: middle;\n",
       "    }\n",
       "\n",
       "    .dataframe tbody tr th {\n",
       "        vertical-align: top;\n",
       "    }\n",
       "\n",
       "    .dataframe thead th {\n",
       "        text-align: right;\n",
       "    }\n",
       "</style>\n",
       "<table border=\"1\" class=\"dataframe\">\n",
       "  <thead>\n",
       "    <tr style=\"text-align: right;\">\n",
       "      <th></th>\n",
       "      <th>城市名称</th>\n",
       "      <th>metro_cnt</th>\n",
       "    </tr>\n",
       "  </thead>\n",
       "  <tbody>\n",
       "    <tr>\n",
       "      <th>38</th>\n",
       "      <td>青岛</td>\n",
       "      <td>106</td>\n",
       "    </tr>\n",
       "    <tr>\n",
       "      <th>30</th>\n",
       "      <td>福州</td>\n",
       "      <td>46</td>\n",
       "    </tr>\n",
       "    <tr>\n",
       "      <th>28</th>\n",
       "      <td>温州</td>\n",
       "      <td>18</td>\n",
       "    </tr>\n",
       "    <tr>\n",
       "      <th>32</th>\n",
       "      <td>西安</td>\n",
       "      <td>153</td>\n",
       "    </tr>\n",
       "    <tr>\n",
       "      <th>4</th>\n",
       "      <td>兰州</td>\n",
       "      <td>20</td>\n",
       "    </tr>\n",
       "  </tbody>\n",
       "</table>\n",
       "</div>"
      ],
      "text/plain": [
       "   城市名称  metro_cnt\n",
       "38   青岛        106\n",
       "30   福州         46\n",
       "28   温州         18\n",
       "32   西安        153\n",
       "4    兰州         20"
      ]
     },
     "execution_count": 10,
     "metadata": {},
     "output_type": "execute_result"
    }
   ],
   "source": [
    "df_data_eda = df_data_3.copy()\n",
    "\"\"\"查看城市的地铁站点数量\"\"\"\n",
    "df_city_cnt = df_data_eda.groupby('城市名称').agg({'站点名称':pd.Series.nunique}).reset_index().rename(columns={'站点名称': 'metro_cnt'})\n",
    "df_city_cnt.sample(5)\n"
   ]
  },
  {
   "cell_type": "code",
   "execution_count": 15,
   "metadata": {
    "hide_input": true,
    "id": "4C4214B2557C4BA8808C3F7880DB74CD",
    "jupyter": {},
    "notebookId": "60785ed3a07c870017811445",
    "scrolled": false,
    "slideshow": {
     "slide_type": "slide"
    },
    "tags": []
   },
   "outputs": [
    {
     "data": {
      "text/html": [
       "<img src=\"https://cdn.kesci.com/upload/rt/4C4214B2557C4BA8808C3F7880DB74CD/qrm4pfkplo.png\">"
      ],
      "text/plain": [
       "<Figure size 2160x576 with 1 Axes>"
      ]
     },
     "metadata": {
      "needs_background": "light"
     },
     "output_type": "display_data"
    }
   ],
   "source": [
    "# 设置标题\n",
    "plt.figure(figsize=(30, 8))\n",
    "plt.title('全国40城市地铁站点数量分布')\n",
    "ax = sns.barplot(data=df_city_cnt, x='城市名称', y='metro_cnt')\n",
    "plt.ylabel('地铁站点数量')\n",
    "\n",
    "# 显示数据的具体数值\n",
    "for x, y in zip(range(0, len(df_city_cnt['城市名称'].index.tolist())), df_city_cnt['metro_cnt'].values.tolist()):\n",
    "    ax.text(x-0.3, y+0.5, '%d' % y, color='black')\n",
    "    \n",
    "plt.show()\n"
   ]
  },
  {
   "cell_type": "markdown",
   "metadata": {
    "id": "D9D22CF8AD2E44C38AAD6F2F70B7E92A",
    "jupyter": {},
    "mdEditEnable": false,
    "slideshow": {
     "slide_type": "slide"
    },
    "tags": []
   },
   "source": [
    "可以看到，地铁站点最多的城市是上海，数量是380；其次分别是：北京、成都、广州、深圳、武汉、重庆、杭州 等\n",
    "\n",
    "<br>\n",
    "\n",
    "再来看每个城市的地铁线路个数"
   ]
  },
  {
   "cell_type": "code",
   "execution_count": 11,
   "metadata": {
    "ExecuteTime": {
     "end_time": "2021-04-15T13:08:55.344493Z",
     "start_time": "2021-04-15T13:08:54.228989Z"
    },
    "id": "9C58AA23D2CB48C2BC0350CBAE53C803",
    "jupyter": {},
    "scrolled": false,
    "slideshow": {
     "slide_type": "slide"
    },
    "tags": []
   },
   "outputs": [
    {
     "data": {
      "text/html": [
       "<div>\n",
       "<style scoped>\n",
       "    .dataframe tbody tr th:only-of-type {\n",
       "        vertical-align: middle;\n",
       "    }\n",
       "\n",
       "    .dataframe tbody tr th {\n",
       "        vertical-align: top;\n",
       "    }\n",
       "\n",
       "    .dataframe thead th {\n",
       "        text-align: right;\n",
       "    }\n",
       "</style>\n",
       "<table border=\"1\" class=\"dataframe\">\n",
       "  <thead>\n",
       "    <tr style=\"text-align: right;\">\n",
       "      <th></th>\n",
       "      <th>城市名称</th>\n",
       "      <th>road_cnt</th>\n",
       "    </tr>\n",
       "  </thead>\n",
       "  <tbody>\n",
       "    <tr>\n",
       "      <th>4</th>\n",
       "      <td>兰州</td>\n",
       "      <td>1</td>\n",
       "    </tr>\n",
       "    <tr>\n",
       "      <th>21</th>\n",
       "      <td>无锡</td>\n",
       "      <td>3</td>\n",
       "    </tr>\n",
       "    <tr>\n",
       "      <th>0</th>\n",
       "      <td>上海</td>\n",
       "      <td>19</td>\n",
       "    </tr>\n",
       "    <tr>\n",
       "      <th>29</th>\n",
       "      <td>石家庄</td>\n",
       "      <td>3</td>\n",
       "    </tr>\n",
       "    <tr>\n",
       "      <th>7</th>\n",
       "      <td>南宁</td>\n",
       "      <td>4</td>\n",
       "    </tr>\n",
       "  </tbody>\n",
       "</table>\n",
       "</div>"
      ],
      "text/plain": [
       "   城市名称  road_cnt\n",
       "4    兰州         1\n",
       "21   无锡         3\n",
       "0    上海        19\n",
       "29  石家庄         3\n",
       "7    南宁         4"
      ]
     },
     "execution_count": 11,
     "metadata": {},
     "output_type": "execute_result"
    }
   ],
   "source": [
    "\"\"\"查看每个城市的地铁线路个数\"\"\"\n",
    "df_metro = df_data_eda[df_data_eda['换乘站点']==1].groupby('城市名称')\n",
    "df_metro_cnt = df_data_eda.groupby('城市名称').agg({'路线名称':pd.Series.nunique}).reset_index().rename(columns={'路线名称': 'road_cnt'})\n",
    "df_metro_cnt.sample(5)\n"
   ]
  },
  {
   "cell_type": "code",
   "execution_count": 17,
   "metadata": {
    "hide_input": true,
    "id": "B5DFE4271DF14DAFBD9F035124301131",
    "jupyter": {},
    "notebookId": "60785ed3a07c870017811445",
    "scrolled": false,
    "slideshow": {
     "slide_type": "slide"
    },
    "tags": []
   },
   "outputs": [
    {
     "data": {
      "text/html": [
       "<img src=\"https://cdn.kesci.com/upload/rt/B5DFE4271DF14DAFBD9F035124301131/qrm4q56smr.png\">"
      ],
      "text/plain": [
       "<Figure size 2160x576 with 1 Axes>"
      ]
     },
     "metadata": {
      "needs_background": "light"
     },
     "output_type": "display_data"
    }
   ],
   "source": [
    "# 设置标题\n",
    "plt.figure(figsize=(30, 8))\n",
    "plt.title('全国40城市地铁线路数量分布')\n",
    "ax = sns.barplot(data=df_metro_cnt, x='城市名称', y='road_cnt')\n",
    "plt.ylabel('地铁线路数量')\n",
    "\n",
    "# 显示数据的具体数值\n",
    "for x, y in zip(range(0, len(df_metro_cnt['城市名称'].index.tolist())), df_metro_cnt['road_cnt'].values.tolist()):\n",
    "    ax.text(x-0.3, y+0.5, '%d' % y, color='black')\n",
    "    \n",
    "plt.show()\n"
   ]
  },
  {
   "cell_type": "markdown",
   "metadata": {
    "id": "5B7243640F7349388D947915EBFA83DF",
    "jupyter": {},
    "mdEditEnable": false,
    "slideshow": {
     "slide_type": "slide"
    },
    "tags": []
   },
   "source": [
    "其中北京的地铁线路最多，达到24条，其次分别是上海、广州、成都、香港、深圳、武汉、重庆等\n",
    "\n",
    "在北京搬砖的同学应该了解，北京有很多新开通的地铁线路是以地区命名的，而且有的是分南段、北段，这样在统计的时候根据名称自然是会当做很多条线。\n",
    "\n",
    "像深圳新开通的 8 号线（2号线延长线），高德地图将其归为了 2 号线，所以深圳对应的地铁总线路就只有 10 条，而不是 11 条"
   ]
  },
  {
   "cell_type": "markdown",
   "metadata": {
    "id": "F1473A310B5E44B4849B8440E67A0015",
    "jupyter": {},
    "mdEditEnable": false,
    "slideshow": {
     "slide_type": "slide"
    },
    "tags": []
   },
   "source": [
    "#### 针对TOP城市进行分析\n",
    "\n",
    "本来打算只针对北上广深做进一步分析，但是突然拔尖的成都让我很感兴趣，于是决定一起分析了"
   ]
  },
  {
   "cell_type": "code",
   "execution_count": 18,
   "metadata": {
    "ExecuteTime": {
     "end_time": "2021-04-15T13:08:57.107797Z",
     "start_time": "2021-04-15T13:08:57.093833Z"
    },
    "id": "D4BBC6D4A93547858EC2BA7925D16C6A",
    "jupyter": {},
    "scrolled": false,
    "slideshow": {
     "slide_type": "slide"
    },
    "tags": []
   },
   "outputs": [
    {
     "name": "stdout",
     "output_type": "stream",
     "text": [
      "(414, 11)\n",
      "(468, 11)\n",
      "(281, 11)\n",
      "(283, 11)\n",
      "(333, 11)\n"
     ]
    }
   ],
   "source": [
    "df_data_sz = df_data_eda[df_data_eda['城市名称']=='深圳']\n",
    "df_data_gz = df_data_eda[df_data_eda['城市名称']=='广州']\n",
    "df_data_sh = df_data_eda[df_data_eda['城市名称']=='上海']\n",
    "df_data_bj = df_data_eda[df_data_eda['城市名称']=='北京']\n",
    "df_data_cd = df_data_eda[df_data_eda['城市名称']=='成都']\n",
    "\n",
    "print(df_data_bj.shape)\n",
    "print(df_data_sh.shape)\n",
    "print(df_data_gz.shape)\n",
    "print(df_data_sz.shape)\n",
    "print(df_data_cd.shape)\n"
   ]
  },
  {
   "cell_type": "code",
   "execution_count": 19,
   "metadata": {
    "ExecuteTime": {
     "end_time": "2021-04-15T13:10:17.484918Z",
     "start_time": "2021-04-15T13:10:17.463492Z"
    },
    "id": "86883B2E05564EBA852A9EED2AD5017C",
    "jupyter": {},
    "scrolled": false,
    "slideshow": {
     "slide_type": "slide"
    },
    "tags": []
   },
   "outputs": [
    {
     "data": {
      "text/html": [
       "<div>\n",
       "<style scoped>\n",
       "    .dataframe tbody tr th:only-of-type {\n",
       "        vertical-align: middle;\n",
       "    }\n",
       "\n",
       "    .dataframe tbody tr th {\n",
       "        vertical-align: top;\n",
       "    }\n",
       "\n",
       "    .dataframe thead th {\n",
       "        text-align: right;\n",
       "    }\n",
       "</style>\n",
       "<table border=\"1\" class=\"dataframe\">\n",
       "  <thead>\n",
       "    <tr style=\"text-align: right;\">\n",
       "      <th></th>\n",
       "      <th>换乘站点</th>\n",
       "      <th>地铁路线</th>\n",
       "    </tr>\n",
       "  </thead>\n",
       "  <tbody>\n",
       "    <tr>\n",
       "      <th>0</th>\n",
       "      <td>2</td>\n",
       "      <td>36</td>\n",
       "    </tr>\n",
       "    <tr>\n",
       "      <th>1</th>\n",
       "      <td>3</td>\n",
       "      <td>4</td>\n",
       "    </tr>\n",
       "    <tr>\n",
       "      <th>2</th>\n",
       "      <td>4</td>\n",
       "      <td>1</td>\n",
       "    </tr>\n",
       "  </tbody>\n",
       "</table>\n",
       "</div>"
      ],
      "text/plain": [
       "   换乘站点  地铁路线\n",
       "0     2    36\n",
       "1     3     4\n",
       "2     4     1"
      ]
     },
     "execution_count": 19,
     "metadata": {},
     "output_type": "execute_result"
    }
   ],
   "source": [
    "\"\"\"查看深圳换乘站点情况\"\"\"\n",
    "df_sz_hc_temp = df_data_sz[df_data_sz['换乘站点']>1].groupby('站点名称')['路线名称'].agg(len).reset_index().rename(columns={'路线名称': '换乘站点'})\n",
    "df_sz_hc = df_sz_hc_temp.groupby('换乘站点').agg(len).reset_index().rename(columns={'站点名称': '地铁路线'})\n",
    "df_sz_hc"
   ]
  },
  {
   "cell_type": "markdown",
   "metadata": {
    "id": "D58195239ACE45A5BBAF24EAA2A6CFBB",
    "jupyter": {},
    "mdEditEnable": false,
    "slideshow": {
     "slide_type": "slide"
    },
    "tags": []
   },
   "source": [
    "4 站换乘只有 1个，3站换乘有4个，2站换乘有36个\n",
    "\n",
    "对应的，其他城市的可以通过可视化更直观的体现"
   ]
  },
  {
   "cell_type": "code",
   "execution_count": 20,
   "metadata": {
    "ExecuteTime": {
     "end_time": "2021-04-15T13:15:32.159039Z",
     "start_time": "2021-04-15T13:15:30.683257Z"
    },
    "id": "4566F421A51B479989680B6B7574678B",
    "jupyter": {},
    "scrolled": false,
    "slideshow": {
     "slide_type": "slide"
    },
    "tags": []
   },
   "outputs": [],
   "source": [
    "\"\"\"查看城市的换乘站点数量\"\"\"\n",
    "df_gz_hc_temp = df_data_gz[df_data_gz['换乘站点']>1].groupby('站点名称').agg({'路线名称':'count'}).reset_index().rename(columns={'路线名称': '换乘站点'})\n",
    "df_gz_hc = df_gz_hc_temp.groupby('换乘站点').agg(len).reset_index().rename(columns={'站点名称': '地铁路线'})\n",
    "\n",
    "df_gz_hc_temp = df_data_gz[df_data_gz['换乘站点']>1].groupby('站点名称').agg({'路线名称':'count'}).reset_index().rename(columns={'路线名称': '换乘站点'})\n",
    "df_gz_hc = df_gz_hc_temp.groupby('换乘站点').agg(len).reset_index().rename(columns={'站点名称': '地铁路线'})\n",
    "\n",
    "df_sh_hc_temp = df_data_sh[df_data_sh['换乘站点']>1].groupby('站点名称').agg({'路线名称':'count'}).reset_index().rename(columns={'路线名称': '换乘站点'})\n",
    "df_sh_hc = df_sh_hc_temp.groupby('换乘站点').agg(len).reset_index().rename(columns={'站点名称': '地铁路线'})\n",
    "\n",
    "df_bj_hc_temp = df_data_bj[df_data_bj['换乘站点']>1].groupby('站点名称').agg({'路线名称':'count'}).reset_index().rename(columns={'路线名称': '换乘站点'})\n",
    "df_bj_hc = df_bj_hc_temp.groupby('换乘站点').agg(len).reset_index().rename(columns={'站点名称': '地铁路线'})\n",
    "\n",
    "df_cd_hc_temp = df_data_cd[df_data_cd['换乘站点']>1].groupby('站点名称').agg({'路线名称':'count'}).reset_index().rename(columns={'路线名称': '换乘站点'})\n",
    "df_cd_hc = df_cd_hc_temp.groupby('换乘站点').agg(len).reset_index().rename(columns={'站点名称': '地铁路线'})\n"
   ]
  },
  {
   "cell_type": "code",
   "execution_count": 23,
   "metadata": {
    "hide_input": true,
    "id": "CB4C9D06A4FD47D7AA1A703BDA9F8830",
    "jupyter": {},
    "notebookId": "60785ed3a07c870017811445",
    "scrolled": false,
    "slideshow": {
     "slide_type": "slide"
    },
    "tags": []
   },
   "outputs": [
    {
     "data": {
      "text/html": [
       "<img src=\"https://cdn.kesci.com/upload/rt/CB4C9D06A4FD47D7AA1A703BDA9F8830/qrm4shrpa8.png\">"
      ],
      "text/plain": [
       "<Figure size 1944x1512 with 6 Axes>"
      ]
     },
     "metadata": {
      "needs_background": "light"
     },
     "output_type": "display_data"
    }
   ],
   "source": [
    "fig, ax = plt.subplots(2, 3, figsize=(27, 21))\n",
    "sns.barplot(data=df_bj_hc, x='换乘站点', y='地铁路线', ax=ax[0, 0])\n",
    "sns.barplot(data=df_sh_hc, x='换乘站点', y='地铁路线', ax=ax[0, 1])\n",
    "sns.barplot(data=df_gz_hc, x='换乘站点', y='地铁路线', ax=ax[0, 2])\n",
    "sns.barplot(data=df_sz_hc, x='换乘站点', y='地铁路线', ax=ax[1, 0])\n",
    "sns.barplot(data=df_cd_hc, x='换乘站点', y='地铁路线', ax=ax[1, 1])\n",
    "# 设置标题\n",
    "ax[0, 0].set_title('北京市换乘站点的分布图')\n",
    "ax[0, 1].set_title('上海市换乘站点的分布图')\n",
    "ax[0, 2].set_title('广州市换乘站点的分布图')\n",
    "ax[1, 0].set_title('深圳市换乘站点的分布图')\n",
    "ax[1, 1].set_title('成都市换乘站点的分布图')\n",
    "\n",
    "# 显示数据的具体数值\n",
    "for x, y in zip(range(0, len(df_bj_hc['地铁路线'].index.tolist())), df_bj_hc['地铁路线'].values.tolist()):\n",
    "    ax[0, 0].text(x, y+0.5, '%d' % y, color='black')\n",
    "for x, y in zip(range(0, len(df_sh_hc['地铁路线'].index.tolist())), df_sh_hc['地铁路线'].values.tolist()):\n",
    "    ax[0, 1].text(x, y+0.5, '%d' % y, color='black')\n",
    "for x, y in zip(range(0, len(df_gz_hc['地铁路线'].index.tolist())), df_gz_hc['地铁路线'].values.tolist()):\n",
    "    ax[0, 2].text(x, y+0.5, '%d' % y, color='black')\n",
    "for x, y in zip(range(0, len(df_sz_hc['地铁路线'].index.tolist())), df_sz_hc['地铁路线'].values.tolist()):\n",
    "    ax[1, 0].text(x, y+0.5, '%d' % y, color='black')\n",
    "for x, y in zip(range(0, len(df_cd_hc['地铁路线'].index.tolist())), df_cd_hc['地铁路线'].values.tolist()):\n",
    "    ax[1, 1].text(x, y+0.5, '%d' % y, color='black')\n",
    "\n",
    "plt.show()"
   ]
  },
  {
   "cell_type": "markdown",
   "metadata": {
    "id": "828D657F9A5D45519A4A4C296E437D28",
    "jupyter": {},
    "mdEditEnable": false,
    "slideshow": {
     "slide_type": "slide"
    },
    "tags": []
   },
   "source": [
    "由图可知，深圳拥有1个四站换乘的站点，上海拥有2个四站换乘的站点\n",
    "\n",
    "不愧是新崛起的超一线城市，看四站换乘就能看出一二\n",
    "\n",
    "<br>\n",
    "\n",
    "可能四站换乘站点还有其他的，一起来看一看："
   ]
  },
  {
   "cell_type": "code",
   "execution_count": 24,
   "metadata": {
    "ExecuteTime": {
     "end_time": "2021-04-15T13:18:40.164419Z",
     "start_time": "2021-04-15T13:18:40.143421Z"
    },
    "id": "DC0DDB93C084457D87BA11262ECD2C18",
    "jupyter": {},
    "scrolled": false,
    "slideshow": {
     "slide_type": "slide"
    },
    "tags": []
   },
   "outputs": [
    {
     "data": {
      "text/html": [
       "<div>\n",
       "<style scoped>\n",
       "    .dataframe tbody tr th:only-of-type {\n",
       "        vertical-align: middle;\n",
       "    }\n",
       "\n",
       "    .dataframe tbody tr th {\n",
       "        vertical-align: top;\n",
       "    }\n",
       "\n",
       "    .dataframe thead th {\n",
       "        text-align: right;\n",
       "    }\n",
       "</style>\n",
       "<table border=\"1\" class=\"dataframe\">\n",
       "  <thead>\n",
       "    <tr style=\"text-align: right;\">\n",
       "      <th></th>\n",
       "      <th>站点名称</th>\n",
       "      <th>POI编号</th>\n",
       "      <th>拼音名称</th>\n",
       "      <th>gd经度</th>\n",
       "      <th>gd纬度</th>\n",
       "      <th>路线名称</th>\n",
       "      <th>城市名称</th>\n",
       "      <th>行政区名称</th>\n",
       "      <th>bd经度</th>\n",
       "      <th>bd纬度</th>\n",
       "      <th>换乘站点</th>\n",
       "    </tr>\n",
       "  </thead>\n",
       "  <tbody>\n",
       "    <tr>\n",
       "      <th>453</th>\n",
       "      <td>龙阳路</td>\n",
       "      <td>BV10039851</td>\n",
       "      <td>LongYang Lu</td>\n",
       "      <td>121.557634</td>\n",
       "      <td>31.203575</td>\n",
       "      <td>2号线</td>\n",
       "      <td>上海</td>\n",
       "      <td>浦东新区</td>\n",
       "      <td>121.563934</td>\n",
       "      <td>31.209171</td>\n",
       "      <td>4</td>\n",
       "    </tr>\n",
       "    <tr>\n",
       "      <th>456</th>\n",
       "      <td>世纪大道</td>\n",
       "      <td>BV10039835</td>\n",
       "      <td>ShiJi DaDao</td>\n",
       "      <td>121.527213</td>\n",
       "      <td>31.228682</td>\n",
       "      <td>2号线</td>\n",
       "      <td>上海</td>\n",
       "      <td>浦东新区</td>\n",
       "      <td>121.533948</td>\n",
       "      <td>31.234503</td>\n",
       "      <td>4</td>\n",
       "    </tr>\n",
       "    <tr>\n",
       "      <th>516</th>\n",
       "      <td>世纪大道</td>\n",
       "      <td>BV10039835</td>\n",
       "      <td>ShiJi DaDao</td>\n",
       "      <td>121.527213</td>\n",
       "      <td>31.228682</td>\n",
       "      <td>4号线</td>\n",
       "      <td>上海</td>\n",
       "      <td>浦东新区</td>\n",
       "      <td>121.533948</td>\n",
       "      <td>31.234503</td>\n",
       "      <td>4</td>\n",
       "    </tr>\n",
       "    <tr>\n",
       "      <th>557</th>\n",
       "      <td>世纪大道</td>\n",
       "      <td>BV10039835</td>\n",
       "      <td>ShiJi DaDao</td>\n",
       "      <td>121.527213</td>\n",
       "      <td>31.228682</td>\n",
       "      <td>6号线</td>\n",
       "      <td>上海</td>\n",
       "      <td>浦东新区</td>\n",
       "      <td>121.533948</td>\n",
       "      <td>31.234503</td>\n",
       "      <td>4</td>\n",
       "    </tr>\n",
       "    <tr>\n",
       "      <th>575</th>\n",
       "      <td>龙阳路</td>\n",
       "      <td>BV10039851</td>\n",
       "      <td>LongYang Lu</td>\n",
       "      <td>121.557634</td>\n",
       "      <td>31.203575</td>\n",
       "      <td>7号线</td>\n",
       "      <td>上海</td>\n",
       "      <td>浦东新区</td>\n",
       "      <td>121.563934</td>\n",
       "      <td>31.209171</td>\n",
       "      <td>4</td>\n",
       "    </tr>\n",
       "    <tr>\n",
       "      <th>647</th>\n",
       "      <td>世纪大道</td>\n",
       "      <td>BV10039835</td>\n",
       "      <td>ShiJi DaDao</td>\n",
       "      <td>121.527213</td>\n",
       "      <td>31.228682</td>\n",
       "      <td>9号线</td>\n",
       "      <td>上海</td>\n",
       "      <td>浦东新区</td>\n",
       "      <td>121.533948</td>\n",
       "      <td>31.234503</td>\n",
       "      <td>4</td>\n",
       "    </tr>\n",
       "    <tr>\n",
       "      <th>840</th>\n",
       "      <td>龙阳路</td>\n",
       "      <td>BV10039851</td>\n",
       "      <td>LongYang Lu</td>\n",
       "      <td>121.557634</td>\n",
       "      <td>31.203575</td>\n",
       "      <td>16号线</td>\n",
       "      <td>上海</td>\n",
       "      <td>浦东新区</td>\n",
       "      <td>121.563934</td>\n",
       "      <td>31.209171</td>\n",
       "      <td>4</td>\n",
       "    </tr>\n",
       "    <tr>\n",
       "      <th>875</th>\n",
       "      <td>龙阳路</td>\n",
       "      <td>BV10039851</td>\n",
       "      <td>LongYang Lu</td>\n",
       "      <td>121.557634</td>\n",
       "      <td>31.203575</td>\n",
       "      <td>磁悬浮</td>\n",
       "      <td>上海</td>\n",
       "      <td>浦东新区</td>\n",
       "      <td>121.563934</td>\n",
       "      <td>31.209171</td>\n",
       "      <td>4</td>\n",
       "    </tr>\n",
       "    <tr>\n",
       "      <th>1173</th>\n",
       "      <td>车公庙</td>\n",
       "      <td>BV10249928</td>\n",
       "      <td>che gong miao</td>\n",
       "      <td>114.025830</td>\n",
       "      <td>22.536247</td>\n",
       "      <td>1号线/罗宝线</td>\n",
       "      <td>深圳</td>\n",
       "      <td>福田区</td>\n",
       "      <td>114.033650</td>\n",
       "      <td>22.541996</td>\n",
       "      <td>4</td>\n",
       "    </tr>\n",
       "    <tr>\n",
       "      <th>1355</th>\n",
       "      <td>车公庙</td>\n",
       "      <td>BV10249928</td>\n",
       "      <td>che gong miao</td>\n",
       "      <td>114.025830</td>\n",
       "      <td>22.536247</td>\n",
       "      <td>7号线/西丽线</td>\n",
       "      <td>深圳</td>\n",
       "      <td>福田区</td>\n",
       "      <td>114.033650</td>\n",
       "      <td>22.541996</td>\n",
       "      <td>4</td>\n",
       "    </tr>\n",
       "    <tr>\n",
       "      <th>1387</th>\n",
       "      <td>车公庙</td>\n",
       "      <td>BV10249928</td>\n",
       "      <td>che gong miao</td>\n",
       "      <td>114.025830</td>\n",
       "      <td>22.536247</td>\n",
       "      <td>9号线/梅林线</td>\n",
       "      <td>深圳</td>\n",
       "      <td>福田区</td>\n",
       "      <td>114.033650</td>\n",
       "      <td>22.541996</td>\n",
       "      <td>4</td>\n",
       "    </tr>\n",
       "    <tr>\n",
       "      <th>1444</th>\n",
       "      <td>车公庙</td>\n",
       "      <td>BV10249928</td>\n",
       "      <td>che gong miao</td>\n",
       "      <td>114.025830</td>\n",
       "      <td>22.536247</td>\n",
       "      <td>11号线/机场线</td>\n",
       "      <td>深圳</td>\n",
       "      <td>福田区</td>\n",
       "      <td>114.033650</td>\n",
       "      <td>22.541996</td>\n",
       "      <td>4</td>\n",
       "    </tr>\n",
       "  </tbody>\n",
       "</table>\n",
       "</div>"
      ],
      "text/plain": [
       "      站点名称       POI编号           拼音名称        gd经度       gd纬度      路线名称 城市名称  \\\n",
       "453    龙阳路  BV10039851    LongYang Lu  121.557634  31.203575       2号线   上海   \n",
       "456   世纪大道  BV10039835    ShiJi DaDao  121.527213  31.228682       2号线   上海   \n",
       "516   世纪大道  BV10039835    ShiJi DaDao  121.527213  31.228682       4号线   上海   \n",
       "557   世纪大道  BV10039835    ShiJi DaDao  121.527213  31.228682       6号线   上海   \n",
       "575    龙阳路  BV10039851    LongYang Lu  121.557634  31.203575       7号线   上海   \n",
       "647   世纪大道  BV10039835    ShiJi DaDao  121.527213  31.228682       9号线   上海   \n",
       "840    龙阳路  BV10039851    LongYang Lu  121.557634  31.203575      16号线   上海   \n",
       "875    龙阳路  BV10039851    LongYang Lu  121.557634  31.203575       磁悬浮   上海   \n",
       "1173   车公庙  BV10249928  che gong miao  114.025830  22.536247   1号线/罗宝线   深圳   \n",
       "1355   车公庙  BV10249928  che gong miao  114.025830  22.536247   7号线/西丽线   深圳   \n",
       "1387   车公庙  BV10249928  che gong miao  114.025830  22.536247   9号线/梅林线   深圳   \n",
       "1444   车公庙  BV10249928  che gong miao  114.025830  22.536247  11号线/机场线   深圳   \n",
       "\n",
       "     行政区名称        bd经度       bd纬度  换乘站点  \n",
       "453   浦东新区  121.563934  31.209171     4  \n",
       "456   浦东新区  121.533948  31.234503     4  \n",
       "516   浦东新区  121.533948  31.234503     4  \n",
       "557   浦东新区  121.533948  31.234503     4  \n",
       "575   浦东新区  121.563934  31.209171     4  \n",
       "647   浦东新区  121.533948  31.234503     4  \n",
       "840   浦东新区  121.563934  31.209171     4  \n",
       "875   浦东新区  121.563934  31.209171     4  \n",
       "1173   福田区  114.033650  22.541996     4  \n",
       "1355   福田区  114.033650  22.541996     4  \n",
       "1387   福田区  114.033650  22.541996     4  \n",
       "1444   福田区  114.033650  22.541996     4  "
      ]
     },
     "execution_count": 24,
     "metadata": {},
     "output_type": "execute_result"
    }
   ],
   "source": [
    "# 深圳和上海的四线换乘站点分别如下：\n",
    "df_data_eda[(df_data_eda['换乘站点']==4) & (df_data_eda['城市名称'].isin(['上海', '深圳']))]\n"
   ]
  },
  {
   "cell_type": "markdown",
   "metadata": {
    "id": "3337507070CA4CD598C2BECA2B049F05",
    "jupyter": {},
    "mdEditEnable": false,
    "slideshow": {
     "slide_type": "slide"
    },
    "tags": []
   },
   "source": [
    "图中的四站换乘分别是：深圳的车公庙站，上海的世纪大道、龙阳路站，其中龙阳路站是2号线、7号线、16号线和磁悬浮线四站换乘"
   ]
  },
  {
   "cell_type": "code",
   "execution_count": 25,
   "metadata": {
    "ExecuteTime": {
     "end_time": "2021-04-15T13:20:55.380219Z",
     "start_time": "2021-04-15T13:20:55.361270Z"
    },
    "id": "8C008F34C1A54D8995D1BB95FFA780C4",
    "jupyter": {},
    "scrolled": false,
    "slideshow": {
     "slide_type": "slide"
    },
    "tags": []
   },
   "outputs": [
    {
     "data": {
      "text/html": [
       "<div>\n",
       "<style scoped>\n",
       "    .dataframe tbody tr th:only-of-type {\n",
       "        vertical-align: middle;\n",
       "    }\n",
       "\n",
       "    .dataframe tbody tr th {\n",
       "        vertical-align: top;\n",
       "    }\n",
       "\n",
       "    .dataframe thead th {\n",
       "        text-align: right;\n",
       "    }\n",
       "</style>\n",
       "<table border=\"1\" class=\"dataframe\">\n",
       "  <thead>\n",
       "    <tr style=\"text-align: right;\">\n",
       "      <th></th>\n",
       "      <th>站点名称</th>\n",
       "      <th>POI编号</th>\n",
       "      <th>拼音名称</th>\n",
       "      <th>gd经度</th>\n",
       "      <th>gd纬度</th>\n",
       "      <th>路线名称</th>\n",
       "      <th>城市名称</th>\n",
       "      <th>行政区名称</th>\n",
       "      <th>bd经度</th>\n",
       "      <th>bd纬度</th>\n",
       "      <th>换乘站点</th>\n",
       "    </tr>\n",
       "  </thead>\n",
       "  <tbody>\n",
       "    <tr>\n",
       "      <th>1856</th>\n",
       "      <td>南京南站</td>\n",
       "      <td>BV10053672</td>\n",
       "      <td>nan jing nan zhan</td>\n",
       "      <td>118.796786</td>\n",
       "      <td>31.970968</td>\n",
       "      <td>S1号线(机场线)</td>\n",
       "      <td>南京</td>\n",
       "      <td>雨花台区</td>\n",
       "      <td>118.804341</td>\n",
       "      <td>31.975024</td>\n",
       "      <td>4</td>\n",
       "    </tr>\n",
       "    <tr>\n",
       "      <th>1868</th>\n",
       "      <td>南京南站</td>\n",
       "      <td>BV10053672</td>\n",
       "      <td>nan jing nan zhan</td>\n",
       "      <td>118.796786</td>\n",
       "      <td>31.970968</td>\n",
       "      <td>1号线</td>\n",
       "      <td>南京</td>\n",
       "      <td>雨花台区</td>\n",
       "      <td>118.804341</td>\n",
       "      <td>31.975024</td>\n",
       "      <td>4</td>\n",
       "    </tr>\n",
       "    <tr>\n",
       "      <th>1928</th>\n",
       "      <td>南京南站</td>\n",
       "      <td>BV10053672</td>\n",
       "      <td>nan jing nan zhan</td>\n",
       "      <td>118.796786</td>\n",
       "      <td>31.970968</td>\n",
       "      <td>S3号线(宁和线)</td>\n",
       "      <td>南京</td>\n",
       "      <td>雨花台区</td>\n",
       "      <td>118.804341</td>\n",
       "      <td>31.975024</td>\n",
       "      <td>4</td>\n",
       "    </tr>\n",
       "    <tr>\n",
       "      <th>1936</th>\n",
       "      <td>南京南站</td>\n",
       "      <td>BV10053672</td>\n",
       "      <td>nan jing nan zhan</td>\n",
       "      <td>118.796786</td>\n",
       "      <td>31.970968</td>\n",
       "      <td>3号线</td>\n",
       "      <td>南京</td>\n",
       "      <td>雨花台区</td>\n",
       "      <td>118.804341</td>\n",
       "      <td>31.975024</td>\n",
       "      <td>4</td>\n",
       "    </tr>\n",
       "    <tr>\n",
       "      <th>2647</th>\n",
       "      <td>开发区</td>\n",
       "      <td>BV10104043</td>\n",
       "      <td>kai fa qu</td>\n",
       "      <td>121.775000</td>\n",
       "      <td>39.053600</td>\n",
       "      <td>3号线</td>\n",
       "      <td>大连</td>\n",
       "      <td>金州区</td>\n",
       "      <td>121.780941</td>\n",
       "      <td>39.059644</td>\n",
       "      <td>4</td>\n",
       "    </tr>\n",
       "    <tr>\n",
       "      <th>2667</th>\n",
       "      <td>开发区</td>\n",
       "      <td>BV10104043</td>\n",
       "      <td>kai fa qu</td>\n",
       "      <td>121.775000</td>\n",
       "      <td>39.053600</td>\n",
       "      <td>保税区线</td>\n",
       "      <td>大连</td>\n",
       "      <td>金州区</td>\n",
       "      <td>121.780941</td>\n",
       "      <td>39.059644</td>\n",
       "      <td>4</td>\n",
       "    </tr>\n",
       "    <tr>\n",
       "      <th>2675</th>\n",
       "      <td>开发区</td>\n",
       "      <td>BV10104043</td>\n",
       "      <td>kai fa qu</td>\n",
       "      <td>121.775000</td>\n",
       "      <td>39.053600</td>\n",
       "      <td>九里线</td>\n",
       "      <td>大连</td>\n",
       "      <td>金州区</td>\n",
       "      <td>121.780941</td>\n",
       "      <td>39.059644</td>\n",
       "      <td>4</td>\n",
       "    </tr>\n",
       "    <tr>\n",
       "      <th>2689</th>\n",
       "      <td>开发区</td>\n",
       "      <td>BV10104043</td>\n",
       "      <td>kai fa qu</td>\n",
       "      <td>121.775000</td>\n",
       "      <td>39.053600</td>\n",
       "      <td>九里支线</td>\n",
       "      <td>大连</td>\n",
       "      <td>金州区</td>\n",
       "      <td>121.780941</td>\n",
       "      <td>39.059644</td>\n",
       "      <td>4</td>\n",
       "    </tr>\n",
       "  </tbody>\n",
       "</table>\n",
       "</div>"
      ],
      "text/plain": [
       "      站点名称       POI编号               拼音名称        gd经度       gd纬度       路线名称  \\\n",
       "1856  南京南站  BV10053672  nan jing nan zhan  118.796786  31.970968  S1号线(机场线)   \n",
       "1868  南京南站  BV10053672  nan jing nan zhan  118.796786  31.970968        1号线   \n",
       "1928  南京南站  BV10053672  nan jing nan zhan  118.796786  31.970968  S3号线(宁和线)   \n",
       "1936  南京南站  BV10053672  nan jing nan zhan  118.796786  31.970968        3号线   \n",
       "2647   开发区  BV10104043          kai fa qu  121.775000  39.053600        3号线   \n",
       "2667   开发区  BV10104043          kai fa qu  121.775000  39.053600       保税区线   \n",
       "2675   开发区  BV10104043          kai fa qu  121.775000  39.053600        九里线   \n",
       "2689   开发区  BV10104043          kai fa qu  121.775000  39.053600       九里支线   \n",
       "\n",
       "     城市名称 行政区名称        bd经度       bd纬度  换乘站点  \n",
       "1856   南京  雨花台区  118.804341  31.975024     4  \n",
       "1868   南京  雨花台区  118.804341  31.975024     4  \n",
       "1928   南京  雨花台区  118.804341  31.975024     4  \n",
       "1936   南京  雨花台区  118.804341  31.975024     4  \n",
       "2647   大连   金州区  121.780941  39.059644     4  \n",
       "2667   大连   金州区  121.780941  39.059644     4  \n",
       "2675   大连   金州区  121.780941  39.059644     4  \n",
       "2689   大连   金州区  121.780941  39.059644     4  "
      ]
     },
     "execution_count": 25,
     "metadata": {},
     "output_type": "execute_result"
    }
   ],
   "source": [
    "# 除此之外其他城市的四线换乘站点分别如下：\n",
    "df_data_eda[(df_data_eda['换乘站点']==4) & ~(df_data_eda['城市名称'].isin(['上海', '深圳']))]\n"
   ]
  },
  {
   "cell_type": "markdown",
   "metadata": {
    "id": "69EF96B9AC7F4276988FF856B6FE5881",
    "jupyter": {},
    "mdEditEnable": false,
    "slideshow": {
     "slide_type": "slide"
    },
    "tags": []
   },
   "source": [
    "除图中之外，四站换乘的地铁站还有：南京的南京南站，大连的开发区站\n",
    "\n",
    "其中大连的开发区站并不能算做真实意义上的4站换乘，看图就知：\n",
    "\n",
    "\n",
    "![Image Name](https://cdn.kesci.com/upload/image/qrm4ttfv6o.png?imageView2/0/w/960/h/960)\n",
    "\n",
    "\n"
   ]
  },
  {
   "cell_type": "code",
   "execution_count": null,
   "metadata": {
    "id": "37A35D1CE1244BF285B056ACD037534F",
    "jupyter": {},
    "notebookId": "60785ed3a07c870017811445",
    "slideshow": {
     "slide_type": "slide"
    },
    "tags": []
   },
   "outputs": [],
   "source": []
  },
  {
   "cell_type": "markdown",
   "metadata": {
    "id": "D2D4BB3F6A4F4065A57B8467087E6300",
    "jupyter": {},
    "mdEditEnable": true,
    "slideshow": {
     "slide_type": "slide"
    },
    "tags": []
   },
   "source": [
    "#### 针对某一城市做具体分析\n",
    "\n",
    "##### 北京市分析\n",
    "\n",
    "对北京市各区域的站点数量进行深度分析，如下："
   ]
  },
  {
   "cell_type": "code",
   "execution_count": 26,
   "metadata": {
    "ExecuteTime": {
     "end_time": "2021-04-15T13:31:01.637808Z",
     "start_time": "2021-04-15T13:31:01.217357Z"
    },
    "id": "0AE8F45C40D1495E84BBF45EAE82803A",
    "jupyter": {},
    "scrolled": false,
    "slideshow": {
     "slide_type": "slide"
    },
    "tags": []
   },
   "outputs": [
    {
     "data": {
      "text/html": [
       "<div>\n",
       "<style scoped>\n",
       "    .dataframe tbody tr th:only-of-type {\n",
       "        vertical-align: middle;\n",
       "    }\n",
       "\n",
       "    .dataframe tbody tr th {\n",
       "        vertical-align: top;\n",
       "    }\n",
       "\n",
       "    .dataframe thead th {\n",
       "        text-align: right;\n",
       "    }\n",
       "</style>\n",
       "<table border=\"1\" class=\"dataframe\">\n",
       "  <thead>\n",
       "    <tr style=\"text-align: right;\">\n",
       "      <th></th>\n",
       "      <th>行政区名称</th>\n",
       "      <th>地铁站点数</th>\n",
       "    </tr>\n",
       "  </thead>\n",
       "  <tbody>\n",
       "    <tr>\n",
       "      <th>0</th>\n",
       "      <td>东城区</td>\n",
       "      <td>28</td>\n",
       "    </tr>\n",
       "    <tr>\n",
       "      <th>1</th>\n",
       "      <td>丰台区</td>\n",
       "      <td>42</td>\n",
       "    </tr>\n",
       "    <tr>\n",
       "      <th>2</th>\n",
       "      <td>大兴区</td>\n",
       "      <td>20</td>\n",
       "    </tr>\n",
       "    <tr>\n",
       "      <th>3</th>\n",
       "      <td>广阳区</td>\n",
       "      <td>1</td>\n",
       "    </tr>\n",
       "    <tr>\n",
       "      <th>4</th>\n",
       "      <td>房山区</td>\n",
       "      <td>18</td>\n",
       "    </tr>\n",
       "    <tr>\n",
       "      <th>5</th>\n",
       "      <td>昌平区</td>\n",
       "      <td>20</td>\n",
       "    </tr>\n",
       "    <tr>\n",
       "      <th>6</th>\n",
       "      <td>朝阳区</td>\n",
       "      <td>82</td>\n",
       "    </tr>\n",
       "    <tr>\n",
       "      <th>7</th>\n",
       "      <td>海淀区</td>\n",
       "      <td>63</td>\n",
       "    </tr>\n",
       "    <tr>\n",
       "      <th>8</th>\n",
       "      <td>石景山区</td>\n",
       "      <td>7</td>\n",
       "    </tr>\n",
       "    <tr>\n",
       "      <th>9</th>\n",
       "      <td>西城区</td>\n",
       "      <td>29</td>\n",
       "    </tr>\n",
       "    <tr>\n",
       "      <th>10</th>\n",
       "      <td>通州区</td>\n",
       "      <td>23</td>\n",
       "    </tr>\n",
       "    <tr>\n",
       "      <th>11</th>\n",
       "      <td>门头沟区</td>\n",
       "      <td>6</td>\n",
       "    </tr>\n",
       "    <tr>\n",
       "      <th>12</th>\n",
       "      <td>顺义区</td>\n",
       "      <td>8</td>\n",
       "    </tr>\n",
       "  </tbody>\n",
       "</table>\n",
       "</div>"
      ],
      "text/plain": [
       "   行政区名称  地铁站点数\n",
       "0    东城区     28\n",
       "1    丰台区     42\n",
       "2    大兴区     20\n",
       "3    广阳区      1\n",
       "4    房山区     18\n",
       "5    昌平区     20\n",
       "6    朝阳区     82\n",
       "7    海淀区     63\n",
       "8   石景山区      7\n",
       "9    西城区     29\n",
       "10   通州区     23\n",
       "11  门头沟区      6\n",
       "12   顺义区      8"
      ]
     },
     "execution_count": 26,
     "metadata": {},
     "output_type": "execute_result"
    }
   ],
   "source": [
    "\"\"\"查看城市的地铁站点数量\"\"\"\n",
    "df_bj_area_cnt = df_data_bj.groupby('行政区名称').agg({'站点名称':pd.Series.nunique}).reset_index().rename(columns={'站点名称': '地铁站点数'})\n",
    "df_bj_area_cnt\n"
   ]
  },
  {
   "cell_type": "code",
   "execution_count": 30,
   "metadata": {
    "hide_input": false,
    "id": "6A46B1E6FE8F49F784E22477390463A2",
    "jupyter": {},
    "notebookId": "60785ed3a07c870017811445",
    "scrolled": false,
    "slideshow": {
     "slide_type": "slide"
    },
    "tags": []
   },
   "outputs": [
    {
     "data": {
      "text/html": [
       "<img src=\"https://cdn.kesci.com/upload/rt/6A46B1E6FE8F49F784E22477390463A2/qrm4w5n3pj.png\">"
      ],
      "text/plain": [
       "<Figure size 1800x720 with 1 Axes>"
      ]
     },
     "metadata": {
      "needs_background": "light"
     },
     "output_type": "display_data"
    }
   ],
   "source": [
    "# 设置标题\n",
    "plt.figure(figsize=(25, 10))\n",
    "plt.title('北京市各区域地铁站点数量的分布图')\n",
    "ax = sns.barplot(data=df_bj_area_cnt, x='行政区名称', y='地铁站点数')\n",
    "plt.ylabel('地铁站点数量')\n",
    "\n",
    "# 显示数据的具体数值\n",
    "for x, y in zip(range(0, len(df_bj_area_cnt['地铁站点数'].index.tolist())), df_bj_area_cnt['地铁站点数'].values.tolist()):\n",
    "    ax.text(x, y, '%d' % y, color='black')\n",
    "plt.show()\n"
   ]
  },
  {
   "cell_type": "markdown",
   "metadata": {
    "id": "11F388103D3746749915BD2D756CE99A",
    "jupyter": {},
    "mdEditEnable": false,
    "slideshow": {
     "slide_type": "slide"
    },
    "tags": []
   },
   "source": [
    "其中，朝阳区地铁站点数量为82，,海淀区地铁站点数量为63\n",
    "\n",
    "顺义区、石景山区、门头沟区、广阳区地铁站点数量较少，地铁能辐射到的区域较少。\n"
   ]
  },
  {
   "cell_type": "markdown",
   "metadata": {
    "id": "D9EAC81AE23441868D43B1BD7B948D5A",
    "jupyter": {},
    "mdEditEnable": false,
    "slideshow": {
     "slide_type": "slide"
    },
    "tags": []
   },
   "source": [
    "##### 上海市分析\n",
    "\n",
    "对上海市各区域的站点数量进行深度分析，如下："
   ]
  },
  {
   "cell_type": "code",
   "execution_count": 32,
   "metadata": {
    "ExecuteTime": {
     "end_time": "2021-04-15T13:33:02.573029Z",
     "start_time": "2021-04-15T13:33:02.126712Z"
    },
    "id": "4A1717FBCC6B4891BB6878E8CF1E7AAF",
    "jupyter": {},
    "scrolled": false,
    "slideshow": {
     "slide_type": "slide"
    },
    "tags": []
   },
   "outputs": [
    {
     "data": {
      "text/html": [
       "<div>\n",
       "<style scoped>\n",
       "    .dataframe tbody tr th:only-of-type {\n",
       "        vertical-align: middle;\n",
       "    }\n",
       "\n",
       "    .dataframe tbody tr th {\n",
       "        vertical-align: top;\n",
       "    }\n",
       "\n",
       "    .dataframe thead th {\n",
       "        text-align: right;\n",
       "    }\n",
       "</style>\n",
       "<table border=\"1\" class=\"dataframe\">\n",
       "  <thead>\n",
       "    <tr style=\"text-align: right;\">\n",
       "      <th></th>\n",
       "      <th>行政区名称</th>\n",
       "      <th>地铁站点数</th>\n",
       "    </tr>\n",
       "  </thead>\n",
       "  <tbody>\n",
       "    <tr>\n",
       "      <th>0</th>\n",
       "      <td>嘉定区</td>\n",
       "      <td>14</td>\n",
       "    </tr>\n",
       "    <tr>\n",
       "      <th>1</th>\n",
       "      <td>奉贤区</td>\n",
       "      <td>7</td>\n",
       "    </tr>\n",
       "    <tr>\n",
       "      <th>2</th>\n",
       "      <td>宝山区</td>\n",
       "      <td>33</td>\n",
       "    </tr>\n",
       "    <tr>\n",
       "      <th>3</th>\n",
       "      <td>崇明区</td>\n",
       "      <td>1</td>\n",
       "    </tr>\n",
       "    <tr>\n",
       "      <th>4</th>\n",
       "      <td>徐汇区</td>\n",
       "      <td>32</td>\n",
       "    </tr>\n",
       "    <tr>\n",
       "      <th>5</th>\n",
       "      <td>普陀区</td>\n",
       "      <td>24</td>\n",
       "    </tr>\n",
       "    <tr>\n",
       "      <th>6</th>\n",
       "      <td>杨浦区</td>\n",
       "      <td>24</td>\n",
       "    </tr>\n",
       "    <tr>\n",
       "      <th>7</th>\n",
       "      <td>松江区</td>\n",
       "      <td>9</td>\n",
       "    </tr>\n",
       "    <tr>\n",
       "      <th>8</th>\n",
       "      <td>浦东新区</td>\n",
       "      <td>114</td>\n",
       "    </tr>\n",
       "    <tr>\n",
       "      <th>9</th>\n",
       "      <td>虹口区</td>\n",
       "      <td>12</td>\n",
       "    </tr>\n",
       "    <tr>\n",
       "      <th>10</th>\n",
       "      <td>长宁区</td>\n",
       "      <td>17</td>\n",
       "    </tr>\n",
       "    <tr>\n",
       "      <th>11</th>\n",
       "      <td>闵行区</td>\n",
       "      <td>46</td>\n",
       "    </tr>\n",
       "    <tr>\n",
       "      <th>12</th>\n",
       "      <td>青浦区</td>\n",
       "      <td>13</td>\n",
       "    </tr>\n",
       "    <tr>\n",
       "      <th>13</th>\n",
       "      <td>静安区</td>\n",
       "      <td>17</td>\n",
       "    </tr>\n",
       "    <tr>\n",
       "      <th>14</th>\n",
       "      <td>黄浦区</td>\n",
       "      <td>17</td>\n",
       "    </tr>\n",
       "  </tbody>\n",
       "</table>\n",
       "</div>"
      ],
      "text/plain": [
       "   行政区名称  地铁站点数\n",
       "0    嘉定区     14\n",
       "1    奉贤区      7\n",
       "2    宝山区     33\n",
       "3    崇明区      1\n",
       "4    徐汇区     32\n",
       "5    普陀区     24\n",
       "6    杨浦区     24\n",
       "7    松江区      9\n",
       "8   浦东新区    114\n",
       "9    虹口区     12\n",
       "10   长宁区     17\n",
       "11   闵行区     46\n",
       "12   青浦区     13\n",
       "13   静安区     17\n",
       "14   黄浦区     17"
      ]
     },
     "execution_count": 32,
     "metadata": {},
     "output_type": "execute_result"
    }
   ],
   "source": [
    "\"\"\"查看城市的地铁站点数量\"\"\"\n",
    "df_sh_area_cnt = df_data_sh.groupby('行政区名称').agg({'站点名称':pd.Series.nunique}).reset_index().rename(columns={'站点名称': '地铁站点数'})\n",
    "df_sh_area_cnt\n"
   ]
  },
  {
   "cell_type": "code",
   "execution_count": 41,
   "metadata": {
    "hide_input": true,
    "id": "1C4448520B30444195146630CCCFB56C",
    "jupyter": {},
    "notebookId": "60785ed3a07c870017811445",
    "scrolled": false,
    "slideshow": {
     "slide_type": "slide"
    },
    "tags": []
   },
   "outputs": [
    {
     "data": {
      "text/html": [
       "<img src=\"https://cdn.kesci.com/upload/rt/1C4448520B30444195146630CCCFB56C/qrm6kslkvd.png\">"
      ],
      "text/plain": [
       "<Figure size 1800x720 with 1 Axes>"
      ]
     },
     "metadata": {
      "needs_background": "light"
     },
     "output_type": "display_data"
    }
   ],
   "source": [
    "# 设置标题\n",
    "plt.figure(figsize=(25, 10))\n",
    "plt.title('上海市各区域地铁站点数量的分布图')\n",
    "ax = sns.barplot(data=df_sh_area_cnt, x='行政区名称', y='地铁站点数')\n",
    "plt.ylabel('地铁站点数量')\n",
    "\n",
    "# 显示数据的具体数值\n",
    "for x, y in zip(range(0, len(df_sh_area_cnt['地铁站点数'].index.tolist())), df_sh_area_cnt['地铁站点数'].values.tolist()):\n",
    "    ax.text(x, y, '%d' % y, color='black')\n",
    "plt.show()"
   ]
  },
  {
   "cell_type": "markdown",
   "metadata": {
    "id": "7A220387DB11467D87D2813445742699",
    "jupyter": {},
    "mdEditEnable": false,
    "slideshow": {
     "slide_type": "slide"
    },
    "tags": []
   },
   "source": [
    "其中，浦江新区地铁站点数量为114，遥遥领先其他各区。\n",
    "\n",
    "第二名的闵行区地铁站点数量为46，崇明区只有1个地铁站点，区域被辐射到的区域较少。\n",
    "\n",
    "蒲江新区站点多的原因主要是因为面积大，网上找了一张图，看了你就明白了：\n",
    "\n",
    "\n",
    "\n",
    "![Image Name](https://cdn.kesci.com/upload/image/qrm4xhho29.png?imageView2/0/w/960/h/960)\n",
    "\n"
   ]
  },
  {
   "cell_type": "markdown",
   "metadata": {
    "id": "F279E18CCCD4486F887D468DA5F2AB0E",
    "jupyter": {},
    "mdEditEnable": false,
    "slideshow": {
     "slide_type": "slide"
    },
    "tags": []
   },
   "source": [
    "##### 广州市分析\n",
    "\n",
    "对广州市各区域的站点数量进行深度分析，如下："
   ]
  },
  {
   "cell_type": "code",
   "execution_count": 34,
   "metadata": {
    "ExecuteTime": {
     "end_time": "2021-04-15T13:33:18.421509Z",
     "start_time": "2021-04-15T13:33:18.036017Z"
    },
    "id": "C6B4D34F55B1455D9AA8E089218ABB93",
    "jupyter": {},
    "scrolled": false,
    "slideshow": {
     "slide_type": "slide"
    },
    "tags": []
   },
   "outputs": [
    {
     "data": {
      "text/html": [
       "<div>\n",
       "<style scoped>\n",
       "    .dataframe tbody tr th:only-of-type {\n",
       "        vertical-align: middle;\n",
       "    }\n",
       "\n",
       "    .dataframe tbody tr th {\n",
       "        vertical-align: top;\n",
       "    }\n",
       "\n",
       "    .dataframe thead th {\n",
       "        text-align: right;\n",
       "    }\n",
       "</style>\n",
       "<table border=\"1\" class=\"dataframe\">\n",
       "  <thead>\n",
       "    <tr style=\"text-align: right;\">\n",
       "      <th></th>\n",
       "      <th>行政区名称</th>\n",
       "      <th>地铁站点数</th>\n",
       "    </tr>\n",
       "  </thead>\n",
       "  <tbody>\n",
       "    <tr>\n",
       "      <th>0</th>\n",
       "      <td>从化区</td>\n",
       "      <td>5</td>\n",
       "    </tr>\n",
       "    <tr>\n",
       "      <th>1</th>\n",
       "      <td>南沙区</td>\n",
       "      <td>13</td>\n",
       "    </tr>\n",
       "    <tr>\n",
       "      <th>2</th>\n",
       "      <td>增城区</td>\n",
       "      <td>12</td>\n",
       "    </tr>\n",
       "    <tr>\n",
       "      <th>3</th>\n",
       "      <td>天河区</td>\n",
       "      <td>40</td>\n",
       "    </tr>\n",
       "    <tr>\n",
       "      <th>4</th>\n",
       "      <td>海珠区</td>\n",
       "      <td>26</td>\n",
       "    </tr>\n",
       "    <tr>\n",
       "      <th>5</th>\n",
       "      <td>番禺区</td>\n",
       "      <td>25</td>\n",
       "    </tr>\n",
       "    <tr>\n",
       "      <th>6</th>\n",
       "      <td>白云区</td>\n",
       "      <td>35</td>\n",
       "    </tr>\n",
       "    <tr>\n",
       "      <th>7</th>\n",
       "      <td>花都区</td>\n",
       "      <td>15</td>\n",
       "    </tr>\n",
       "    <tr>\n",
       "      <th>8</th>\n",
       "      <td>荔湾区</td>\n",
       "      <td>20</td>\n",
       "    </tr>\n",
       "    <tr>\n",
       "      <th>9</th>\n",
       "      <td>越秀区</td>\n",
       "      <td>20</td>\n",
       "    </tr>\n",
       "    <tr>\n",
       "      <th>10</th>\n",
       "      <td>黄埔区</td>\n",
       "      <td>31</td>\n",
       "    </tr>\n",
       "  </tbody>\n",
       "</table>\n",
       "</div>"
      ],
      "text/plain": [
       "   行政区名称  地铁站点数\n",
       "0    从化区      5\n",
       "1    南沙区     13\n",
       "2    增城区     12\n",
       "3    天河区     40\n",
       "4    海珠区     26\n",
       "5    番禺区     25\n",
       "6    白云区     35\n",
       "7    花都区     15\n",
       "8    荔湾区     20\n",
       "9    越秀区     20\n",
       "10   黄埔区     31"
      ]
     },
     "execution_count": 34,
     "metadata": {},
     "output_type": "execute_result"
    }
   ],
   "source": [
    "\"\"\"查看城市的地铁站点数量\"\"\"\n",
    "df_gz_area_cnt = df_data_gz.groupby('行政区名称').agg({'站点名称':pd.Series.nunique}).reset_index().rename(columns={'站点名称': '地铁站点数'})\n",
    "df_gz_area_cnt\n"
   ]
  },
  {
   "cell_type": "code",
   "execution_count": 42,
   "metadata": {
    "hide_input": true,
    "id": "D39BD1C24CB446D1853803242E3EE433",
    "jupyter": {},
    "notebookId": "60785ed3a07c870017811445",
    "scrolled": false,
    "slideshow": {
     "slide_type": "slide"
    },
    "tags": []
   },
   "outputs": [
    {
     "data": {
      "text/html": [
       "<img src=\"https://cdn.kesci.com/upload/rt/D39BD1C24CB446D1853803242E3EE433/qrm6lawiln.png\">"
      ],
      "text/plain": [
       "<Figure size 1800x720 with 1 Axes>"
      ]
     },
     "metadata": {
      "needs_background": "light"
     },
     "output_type": "display_data"
    }
   ],
   "source": [
    "# 设置标题\n",
    "plt.figure(figsize=(25, 10))\n",
    "plt.title('广州市各区域地铁站点数量的分布图')\n",
    "ax = sns.barplot(data=df_gz_area_cnt, x='行政区名称', y='地铁站点数')\n",
    "plt.ylabel('地铁站点数量')\n",
    "\n",
    "# 显示数据的具体数值\n",
    "for x, y in zip(range(0, len(df_gz_area_cnt['地铁站点数'].index.tolist())), df_gz_area_cnt['地铁站点数'].values.tolist()):\n",
    "    ax.text(x, y, '%d' % y, color='black')\n",
    "plt.show()"
   ]
  },
  {
   "cell_type": "markdown",
   "metadata": {
    "id": "5EC97CA505964F178CFE6E481BCE3708",
    "jupyter": {},
    "slideshow": {
     "slide_type": "slide"
    },
    "tags": []
   },
   "source": [
    "其中，天河区、白云区、黄埔区的地铁站点数量依次为 40、35、31，基本分布很均匀\n",
    "\n",
    "从化区的地铁站点数量最少，地铁能辐射到的区域较少。"
   ]
  },
  {
   "cell_type": "markdown",
   "metadata": {
    "id": "9E66B2A706684F26A3153FC60C50CD02",
    "jupyter": {},
    "mdEditEnable": false,
    "slideshow": {
     "slide_type": "slide"
    },
    "tags": []
   },
   "source": [
    "##### 深圳市分析\n",
    "\n",
    "对深圳市各区域的站点数量进行深度分析，如下："
   ]
  },
  {
   "cell_type": "code",
   "execution_count": 36,
   "metadata": {
    "ExecuteTime": {
     "end_time": "2021-04-15T13:33:36.849042Z",
     "start_time": "2021-04-15T13:33:36.542910Z"
    },
    "id": "92335B78D17945ED8CAAC548B9499008",
    "jupyter": {},
    "scrolled": false,
    "slideshow": {
     "slide_type": "slide"
    },
    "tags": []
   },
   "outputs": [
    {
     "data": {
      "text/html": [
       "<div>\n",
       "<style scoped>\n",
       "    .dataframe tbody tr th:only-of-type {\n",
       "        vertical-align: middle;\n",
       "    }\n",
       "\n",
       "    .dataframe tbody tr th {\n",
       "        vertical-align: top;\n",
       "    }\n",
       "\n",
       "    .dataframe thead th {\n",
       "        text-align: right;\n",
       "    }\n",
       "</style>\n",
       "<table border=\"1\" class=\"dataframe\">\n",
       "  <thead>\n",
       "    <tr style=\"text-align: right;\">\n",
       "      <th></th>\n",
       "      <th>行政区名称</th>\n",
       "      <th>地铁站点数</th>\n",
       "    </tr>\n",
       "  </thead>\n",
       "  <tbody>\n",
       "    <tr>\n",
       "      <th>0</th>\n",
       "      <td>光明区</td>\n",
       "      <td>10</td>\n",
       "    </tr>\n",
       "    <tr>\n",
       "      <th>1</th>\n",
       "      <td>南山区</td>\n",
       "      <td>49</td>\n",
       "    </tr>\n",
       "    <tr>\n",
       "      <th>2</th>\n",
       "      <td>宝安区</td>\n",
       "      <td>30</td>\n",
       "    </tr>\n",
       "    <tr>\n",
       "      <th>3</th>\n",
       "      <td>盐田区</td>\n",
       "      <td>5</td>\n",
       "    </tr>\n",
       "    <tr>\n",
       "      <th>4</th>\n",
       "      <td>福田区</td>\n",
       "      <td>54</td>\n",
       "    </tr>\n",
       "    <tr>\n",
       "      <th>5</th>\n",
       "      <td>罗湖区</td>\n",
       "      <td>29</td>\n",
       "    </tr>\n",
       "    <tr>\n",
       "      <th>6</th>\n",
       "      <td>龙华区</td>\n",
       "      <td>21</td>\n",
       "    </tr>\n",
       "    <tr>\n",
       "      <th>7</th>\n",
       "      <td>龙岗区</td>\n",
       "      <td>38</td>\n",
       "    </tr>\n",
       "  </tbody>\n",
       "</table>\n",
       "</div>"
      ],
      "text/plain": [
       "  行政区名称  地铁站点数\n",
       "0   光明区     10\n",
       "1   南山区     49\n",
       "2   宝安区     30\n",
       "3   盐田区      5\n",
       "4   福田区     54\n",
       "5   罗湖区     29\n",
       "6   龙华区     21\n",
       "7   龙岗区     38"
      ]
     },
     "execution_count": 36,
     "metadata": {},
     "output_type": "execute_result"
    }
   ],
   "source": [
    "\"\"\"查看城市的地铁站点数量\"\"\"\n",
    "df_sz_area_cnt = df_data_sz.groupby('行政区名称').agg({'站点名称':pd.Series.nunique}).reset_index().rename(columns={'站点名称': '地铁站点数'})\n",
    "df_sz_area_cnt\n"
   ]
  },
  {
   "cell_type": "code",
   "execution_count": 43,
   "metadata": {
    "hide_input": true,
    "id": "C6403FC546094DF083D6AD92D617F622",
    "jupyter": {},
    "notebookId": "60785ed3a07c870017811445",
    "scrolled": false,
    "slideshow": {
     "slide_type": "slide"
    },
    "tags": []
   },
   "outputs": [
    {
     "data": {
      "text/html": [
       "<img src=\"https://cdn.kesci.com/upload/rt/C6403FC546094DF083D6AD92D617F622/qrm6nqq5hs.png\">"
      ],
      "text/plain": [
       "<Figure size 1800x720 with 1 Axes>"
      ]
     },
     "metadata": {
      "needs_background": "light"
     },
     "output_type": "display_data"
    }
   ],
   "source": [
    "# 设置标题\n",
    "plt.figure(figsize=(25, 10))\n",
    "plt.title('深圳市各区域地铁站点数量的分布图')\n",
    "ax = sns.barplot(data=df_sz_area_cnt, x='行政区名称', y='地铁站点数')\n",
    "plt.ylabel('地铁站点数量')\n",
    "\n",
    "# 显示数据的具体数值\n",
    "for x, y in zip(range(0, len(df_sz_area_cnt['地铁站点数'].index.tolist())), df_sz_area_cnt['地铁站点数'].values.tolist()):\n",
    "    ax.text(x, y, '%d' % y, color='black')\n",
    "plt.show()"
   ]
  },
  {
   "cell_type": "markdown",
   "metadata": {
    "id": "F0587BF9605044EBB81BD9845C882D44",
    "jupyter": {},
    "mdEditEnable": false,
    "slideshow": {
     "slide_type": "slide"
    },
    "tags": []
   },
   "source": [
    "其中，福田区、南山区的地铁站点数量分别为：54和49，领先其他各区\n",
    "\n",
    "盐田区站点数量较少，盲猜是新开通的8号线。"
   ]
  },
  {
   "cell_type": "markdown",
   "metadata": {
    "id": "327D3E4B002645908211101C3F6682B9",
    "jupyter": {},
    "mdEditEnable": false,
    "slideshow": {
     "slide_type": "slide"
    },
    "tags": []
   },
   "source": [
    "##### 成都市分析\n",
    "\n",
    "对成都市各区域的站点数量进行深度分析，如下："
   ]
  },
  {
   "cell_type": "code",
   "execution_count": 39,
   "metadata": {
    "ExecuteTime": {
     "end_time": "2021-04-15T13:33:51.133941Z",
     "start_time": "2021-04-15T13:33:50.748405Z"
    },
    "id": "7DDFB17A8CA64FD48E4EC5B0CF27182A",
    "jupyter": {},
    "scrolled": false,
    "slideshow": {
     "slide_type": "slide"
    },
    "tags": []
   },
   "outputs": [
    {
     "data": {
      "text/html": [
       "<div>\n",
       "<style scoped>\n",
       "    .dataframe tbody tr th:only-of-type {\n",
       "        vertical-align: middle;\n",
       "    }\n",
       "\n",
       "    .dataframe tbody tr th {\n",
       "        vertical-align: top;\n",
       "    }\n",
       "\n",
       "    .dataframe thead th {\n",
       "        text-align: right;\n",
       "    }\n",
       "</style>\n",
       "<table border=\"1\" class=\"dataframe\">\n",
       "  <thead>\n",
       "    <tr style=\"text-align: right;\">\n",
       "      <th></th>\n",
       "      <th>行政区名称</th>\n",
       "      <th>地铁站点数</th>\n",
       "    </tr>\n",
       "  </thead>\n",
       "  <tbody>\n",
       "    <tr>\n",
       "      <th>0</th>\n",
       "      <td>双流区</td>\n",
       "      <td>61</td>\n",
       "    </tr>\n",
       "    <tr>\n",
       "      <th>1</th>\n",
       "      <td>成华区</td>\n",
       "      <td>28</td>\n",
       "    </tr>\n",
       "    <tr>\n",
       "      <th>2</th>\n",
       "      <td>新津区</td>\n",
       "      <td>7</td>\n",
       "    </tr>\n",
       "    <tr>\n",
       "      <th>3</th>\n",
       "      <td>新都区</td>\n",
       "      <td>14</td>\n",
       "    </tr>\n",
       "    <tr>\n",
       "      <th>4</th>\n",
       "      <td>武侯区</td>\n",
       "      <td>52</td>\n",
       "    </tr>\n",
       "    <tr>\n",
       "      <th>5</th>\n",
       "      <td>温江区</td>\n",
       "      <td>12</td>\n",
       "    </tr>\n",
       "    <tr>\n",
       "      <th>6</th>\n",
       "      <td>简阳市</td>\n",
       "      <td>2</td>\n",
       "    </tr>\n",
       "    <tr>\n",
       "      <th>7</th>\n",
       "      <td>郫都区</td>\n",
       "      <td>13</td>\n",
       "    </tr>\n",
       "    <tr>\n",
       "      <th>8</th>\n",
       "      <td>金牛区</td>\n",
       "      <td>40</td>\n",
       "    </tr>\n",
       "    <tr>\n",
       "      <th>9</th>\n",
       "      <td>锦江区</td>\n",
       "      <td>20</td>\n",
       "    </tr>\n",
       "    <tr>\n",
       "      <th>10</th>\n",
       "      <td>青羊区</td>\n",
       "      <td>20</td>\n",
       "    </tr>\n",
       "    <tr>\n",
       "      <th>11</th>\n",
       "      <td>龙泉驿区</td>\n",
       "      <td>13</td>\n",
       "    </tr>\n",
       "  </tbody>\n",
       "</table>\n",
       "</div>"
      ],
      "text/plain": [
       "   行政区名称  地铁站点数\n",
       "0    双流区     61\n",
       "1    成华区     28\n",
       "2    新津区      7\n",
       "3    新都区     14\n",
       "4    武侯区     52\n",
       "5    温江区     12\n",
       "6    简阳市      2\n",
       "7    郫都区     13\n",
       "8    金牛区     40\n",
       "9    锦江区     20\n",
       "10   青羊区     20\n",
       "11  龙泉驿区     13"
      ]
     },
     "execution_count": 39,
     "metadata": {},
     "output_type": "execute_result"
    }
   ],
   "source": [
    "\"\"\"查看城市的地铁站点数量\"\"\"\n",
    "df_cd_area_cnt = df_data_cd.groupby('行政区名称').agg({'站点名称':pd.Series.nunique}).reset_index().rename(columns={'站点名称': '地铁站点数'})\n",
    "df_cd_area_cnt\n"
   ]
  },
  {
   "cell_type": "code",
   "execution_count": 44,
   "metadata": {
    "id": "EFCF9A576003427981DE40EF6E24BC3D",
    "jupyter": {},
    "notebookId": "60785ed3a07c870017811445",
    "scrolled": false,
    "slideshow": {
     "slide_type": "slide"
    },
    "tags": []
   },
   "outputs": [
    {
     "data": {
      "text/html": [
       "<img src=\"https://cdn.kesci.com/upload/rt/EFCF9A576003427981DE40EF6E24BC3D/qrm6oq65i9.png\">"
      ],
      "text/plain": [
       "<Figure size 1800x720 with 1 Axes>"
      ]
     },
     "metadata": {
      "needs_background": "light"
     },
     "output_type": "display_data"
    }
   ],
   "source": [
    "# 设置标题\n",
    "plt.figure(figsize=(25, 10))\n",
    "plt.title('成都市各区域地铁站点数量的分布图')\n",
    "ax = sns.barplot(data=df_cd_area_cnt, x='行政区名称', y='地铁站点数')\n",
    "plt.ylabel('地铁站点数量')\n",
    "\n",
    "# 显示数据的具体数值\n",
    "for x, y in zip(range(0, len(df_cd_area_cnt['地铁站点数'].index.tolist())), df_cd_area_cnt['地铁站点数'].values.tolist()):\n",
    "    ax.text(x, y, '%d' % y, color='black')\n",
    "plt.show()\n"
   ]
  },
  {
   "cell_type": "markdown",
   "metadata": {
    "id": "CF4A3C2E50274DFD8E1DAE007C9D019E",
    "jupyter": {},
    "mdEditEnable": false,
    "slideshow": {
     "slide_type": "slide"
    },
    "tags": []
   },
   "source": [
    "其中，双流区、武侯区、金牛区的地铁站点数量分别为：61、52和40，遥遥领先其他各区\n",
    "\n",
    "没有想到的是，成都的地铁站点比深圳多，而且成都的区域聚集效应更明显。"
   ]
  },
  {
   "cell_type": "markdown",
   "metadata": {
    "id": "2E6D93FF8FBF48CE9F6C79B4188CA7BF",
    "jupyter": {},
    "mdEditEnable": false,
    "slideshow": {
     "slide_type": "slide"
    },
    "tags": []
   },
   "source": [
    "##### 城市地图可视化 \n",
    "\n",
    "最后，通过 excel 的三维地图再来看看上面5个城市的聚集效应到底如何\n"
   ]
  },
  {
   "cell_type": "markdown",
   "metadata": {
    "id": "0F8263F38D4C43858FC469A8EFF388D5",
    "jupyter": {},
    "mdEditEnable": false,
    "slideshow": {
     "slide_type": "slide"
    },
    "tags": []
   },
   "source": [
    "北京市各区域地铁站点情况三维地图展示：\n",
    "\n",
    "\n",
    "![Image Name](https://cdn.kesci.com/upload/image/qrm57hqgno.png)\n",
    "\n",
    "真的是规规整整，向四面八方进行辐射，圈状的布局非常明显\n"
   ]
  },
  {
   "cell_type": "markdown",
   "metadata": {
    "id": "10D4631DFB2E421193933EF1981F5C27",
    "jupyter": {},
    "mdEditEnable": false,
    "slideshow": {
     "slide_type": "slide"
    },
    "tags": []
   },
   "source": [
    "上海市各区域地铁站点情况三维地图展示：\n",
    "\n",
    "\n",
    "\n",
    "![Image Name](https://cdn.kesci.com/upload/image/qrm5bvgf2e.png?imageView2/0/w/960/h/960)\n",
    "\n",
    "\n",
    "上海确实是浦江新区的地铁站点相当多，整体聚集效应比较明显，中间圆心位置地理优势很突出\n"
   ]
  },
  {
   "cell_type": "markdown",
   "metadata": {
    "id": "D253C644AF4042C09BA039EA0D44BFD4",
    "jupyter": {},
    "mdEditEnable": false,
    "slideshow": {
     "slide_type": "slide"
    },
    "tags": []
   },
   "source": [
    "广州市各区域地铁站点情况三维地图展示：\n",
    "\n",
    "\n",
    "![Image Name](https://cdn.kesci.com/upload/image/qrm5g15839.png?imageView2/0/w/960/h/960)\n",
    "\n",
    "\n",
    "\n",
    "广州的交通现在辐射的已经很多了，像图中左下角的广佛线连接佛山，正下角的连接东莞，甚至以后会直接和深圳用轻轨连起来等，交通枢纽位置明显。\n",
    "\n",
    "但是同样它的整体聚集效应也比较明显，通过柱子的高度就能看出来。"
   ]
  },
  {
   "cell_type": "markdown",
   "metadata": {
    "id": "0C9F187EF43A4C5E870FBC02E26D93CC",
    "jupyter": {},
    "mdEditEnable": false,
    "scrolled": false,
    "slideshow": {
     "slide_type": "slide"
    },
    "tags": []
   },
   "source": [
    "深圳市各区域地铁站点情况三维地图展示：\n",
    "\n",
    "\n",
    "\n",
    "![Image Name](https://cdn.kesci.com/upload/image/qrm5n2r0li.png?imageView2/0/w/960/h/960)\n",
    "\n",
    "\n",
    "深圳的核心区域面积比较小，导致其能辐射的区域有限，对应的只能往上半图辐射连接东莞，右上角辐射连接惠州。\n",
    "\n",
    "> 这也正是站点数量被成都挤下去的原因\n",
    "\n",
    ".\n",
    "\n",
    "深圳主要是两个核心区：红色的福田区和亮黄色的南山区，中心区域分布比较均匀\n",
    "\n",
    "大胆预测一下：按照深圳的发展速度，上半张图大概率会崛起\n"
   ]
  },
  {
   "cell_type": "markdown",
   "metadata": {
    "id": "13E0B3517D1F4904812054E0B534F9A7",
    "jupyter": {},
    "mdEditEnable": false,
    "notebookId": "60785ed3a07c870017811445",
    "scrolled": false,
    "slideshow": {
     "slide_type": "slide"
    },
    "tags": []
   },
   "source": [
    "成都市各区域地铁站点情况三维地图展示：\n",
    "\n",
    "\n",
    "![Image Name](https://cdn.kesci.com/upload/image/qrm5wj3a2a.png?imageView2/0/w/960/h/960)\n",
    "\n",
    "\n",
    "成都是一个我没想到的城市，没想到它的交通会排在深圳前面，看图就能得出这得益于它的区域位置优越。\n",
    "\n",
    "成都基本上各条线路已经辐射开了，后面可能会形成一个大的外部环线，其实，类似的城市还有一个，不知道大家能不能联想到？\n"
   ]
  },
  {
   "cell_type": "code",
   "execution_count": null,
   "metadata": {
    "id": "D2446B26E9944F11A52B589AD147283E",
    "jupyter": {},
    "notebookId": "60785ed3a07c870017811445",
    "slideshow": {
     "slide_type": "slide"
    },
    "tags": []
   },
   "outputs": [],
   "source": []
  },
  {
   "cell_type": "markdown",
   "metadata": {
    "id": "FDCAEB6AD69140848FA8FE8435A72359",
    "jupyter": {},
    "mdEditEnable": false,
    "slideshow": {
     "slide_type": "slide"
    },
    "tags": []
   },
   "source": [
    "ok，以上就是本节分析的全部内容。\n",
    "\n",
    "感兴趣的同学可以关注我的专栏 👉[小一的学习笔记](https://www.heywhale.com/home/column/601fe851b23344001580c1f0)  方便第一时间获取更新的项目\n",
    "\n",
    "\n",
    ".\n",
    "\n",
    "#### 拓展\n",
    "\n",
    "最后，大家可以根据如下角度进行更深入的分析：\n",
    "- 通过客流量数据，结合地铁站点进行日内用户轨迹分析\n",
    "- 通过租房数据，结合距离进行房价的进一步探索\n",
    "- 通过地产数据，结合地铁站点进行价值分析\n"
   ]
  },
  {
   "cell_type": "markdown",
   "metadata": {
    "id": "BB04D75DE4C041D1AC09CEC2302D8BA0",
    "jupyter": {},
    "mdEditEnable": false,
    "notebookId": "60785ed3a07c870017811445",
    "scrolled": false,
    "slideshow": {
     "slide_type": "slide"
    },
    "tags": []
   },
   "source": [
    "![Image Name](https://cdn.kesci.com/upload/image/qrhvm4qcxl.jpg?imageView2/0/w/960/h/960)"
   ]
  },
  {
   "cell_type": "code",
   "execution_count": null,
   "metadata": {
    "id": "C0B56F968A4746648AC62E322DDDFA24",
    "jupyter": {},
    "notebookId": "60785ed3a07c870017811445",
    "scrolled": false,
    "slideshow": {
     "slide_type": "slide"
    },
    "tags": []
   },
   "outputs": [],
   "source": []
  },
  {
   "cell_type": "code",
   "execution_count": null,
   "metadata": {
    "id": "D0355E193C104CA696E67F7D1AA89910",
    "jupyter": {},
    "notebookId": "60785ed3a07c870017811445",
    "scrolled": false,
    "slideshow": {
     "slide_type": "slide"
    },
    "tags": []
   },
   "outputs": [],
   "source": []
  },
  {
   "cell_type": "code",
   "execution_count": null,
   "metadata": {
    "id": "A607D3A0119B416C8E5220D3F79851B3",
    "jupyter": {},
    "notebookId": "60785ed3a07c870017811445",
    "scrolled": false,
    "slideshow": {
     "slide_type": "slide"
    },
    "tags": []
   },
   "outputs": [],
   "source": []
  },
  {
   "cell_type": "code",
   "execution_count": null,
   "metadata": {
    "id": "4B754D3F997D41C98A3FF3778B9C4BD0",
    "jupyter": {},
    "notebookId": "60785ed3a07c870017811445",
    "scrolled": false,
    "slideshow": {
     "slide_type": "slide"
    },
    "tags": []
   },
   "outputs": [],
   "source": []
  },
  {
   "cell_type": "code",
   "execution_count": null,
   "metadata": {
    "id": "282C18F164484D1288BD2F3C554F2000",
    "jupyter": {},
    "notebookId": "60785ed3a07c870017811445",
    "scrolled": false,
    "slideshow": {
     "slide_type": "slide"
    },
    "tags": []
   },
   "outputs": [],
   "source": []
  },
  {
   "cell_type": "code",
   "execution_count": null,
   "metadata": {
    "id": "4A3DD6F6320F4BD18B3C65E4F3A89DD8",
    "jupyter": {},
    "notebookId": "60785ed3a07c870017811445",
    "slideshow": {
     "slide_type": "slide"
    },
    "tags": []
   },
   "outputs": [],
   "source": []
  }
 ],
 "metadata": {
  "kernelspec": {
   "display_name": "Python 3",
   "language": "python",
   "name": "python3"
  },
  "language_info": {
   "codemirror_mode": {
    "name": "ipython",
    "version": 3
   },
   "file_extension": ".py",
   "mimetype": "text/x-python",
   "name": "python",
   "nbconvert_exporter": "python",
   "pygments_lexer": "ipython3",
   "version": "3.8.5"
  },
  "toc": {
   "base_numbering": 1,
   "nav_menu": {},
   "number_sections": true,
   "sideBar": true,
   "skip_h1_title": false,
   "title_cell": "Table of Contents",
   "title_sidebar": "Contents",
   "toc_cell": false,
   "toc_position": {},
   "toc_section_display": true,
   "toc_window_display": false
  }
 },
 "nbformat": 4,
 "nbformat_minor": 2
}
